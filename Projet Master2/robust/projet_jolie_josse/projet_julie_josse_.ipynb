{
  "cells": [
    {
      "cell_type": "code",
      "source": [
        "# Installer les packages nécessaires s'ils ne sont pas déjà installés\n",
        "packages <- c(\"FactoMineR\", \"missMDA\", \"mice\", \"VIM\", \"ggplot2\", \"gridExtra\", \"missForest\", \"naniar\", \"Amelia\", \"bnstruct\", \"lme4\", \"MCMCglmm\", \"glmnet\")\n",
        "new_packages <- packages[!(packages %in% installed.packages()[,\"Package\"])]\n",
        "\n",
        "if (length(new_packages)) {\n",
        "  install.packages(new_packages, dependencies = TRUE)\n",
        "}\n",
        "\n",
        "# Charger les bibliothèques\n",
        "lapply(packages, library, character.only = TRUE)\n"
      ],
      "metadata": {
        "colab": {
          "base_uri": "https://localhost:8080/",
          "height": 1000
        },
        "collapsed": true,
        "id": "GS71K5RNvg1l",
        "outputId": "ab625276-65de-4ba7-9eed-6f8368d08e09"
      },
      "id": "GS71K5RNvg1l",
      "execution_count": null,
      "outputs": [
        {
          "output_type": "stream",
          "name": "stderr",
          "text": [
            "Installing packages into ‘/usr/local/lib/R/site-library’\n",
            "(as ‘lib’ is unspecified)\n",
            "\n",
            "Warning message:\n",
            "“dependencies ‘graph’, ‘Rgraphviz’ are not available”\n",
            "also installing the dependencies ‘xts’, ‘TTR’, ‘markdown’, ‘quantmod’, ‘gridtext’, ‘fracdiff’, ‘timeDate’, ‘tseries’, ‘urca’, ‘checkmate’, ‘mnormt’, ‘GPArotation’, ‘pbivnorm’, ‘quadprog’, ‘reactR’, ‘rex’, ‘rngtools’, ‘plyr’, ‘chron’, ‘gower’, ‘ggtext’, ‘stinepack’, ‘forecast’, ‘htmlTable’, ‘hunspell’, ‘psych’, ‘lavaan’, ‘jpeg’, ‘png’, ‘reshape2’, ‘glasso’, ‘fdrtool’, ‘gtools’, ‘pbapply’, ‘polynom’, ‘mcmc’, ‘expm’, ‘robustbase’, ‘vcd’, ‘ranger’, ‘tinytest’, ‘reactable’, ‘covr’, ‘egg’, ‘randomForest’, ‘itertools’, ‘doRNG’, ‘norm’, ‘visdat’, ‘viridis’, ‘UpSetR’, ‘rpart.plot’, ‘wakefield’, ‘vdiffr’, ‘here’, ‘simputation’, ‘imputeTS’, ‘Hmisc’, ‘spelling’, ‘RcppArmadillo’, ‘bitops’, ‘igraph’, ‘qgraph’, ‘coda’, ‘ape’, ‘corpcor’, ‘tensorA’, ‘cubature’, ‘rgl’, ‘combinat’, ‘orthopolynom’, ‘MCMCpack’, ‘bayesm’, ‘msm’\n",
            "\n",
            "\n",
            "Loading required package: colorspace\n",
            "\n",
            "Loading required package: grid\n",
            "\n",
            "VIM is ready to use.\n",
            "\n",
            "\n",
            "Suggestions and bug-reports can be submitted at: https://github.com/statistikat/VIM/issues\n",
            "\n",
            "\n",
            "Attaching package: ‘VIM’\n",
            "\n",
            "\n",
            "The following object is masked from ‘package:datasets’:\n",
            "\n",
            "    sleep\n",
            "\n",
            "\n",
            "\n",
            "Attaching package: ‘missForest’\n",
            "\n",
            "\n",
            "The following object is masked from ‘package:VIM’:\n",
            "\n",
            "    nrmse\n",
            "\n",
            "\n",
            "Loading required package: Rcpp\n",
            "\n",
            "## \n",
            "## Amelia II: Multiple Imputation\n",
            "## (Version 1.8.3, built: 2024-11-07)\n",
            "## Copyright (C) 2005-2024 James Honaker, Gary King and Matthew Blackwell\n",
            "## Refer to http://gking.harvard.edu/amelia/ for more information\n",
            "## \n",
            "\n",
            "Loading required package: bitops\n",
            "\n",
            "Loading required package: igraph\n",
            "\n",
            "\n",
            "Attaching package: ‘igraph’\n",
            "\n",
            "\n",
            "The following objects are masked from ‘package:stats’:\n",
            "\n",
            "    decompose, spectrum\n",
            "\n",
            "\n",
            "The following object is masked from ‘package:base’:\n",
            "\n",
            "    union\n",
            "\n",
            "\n",
            "\n",
            "Attaching package: ‘bnstruct’\n",
            "\n",
            "\n",
            "The following object is masked from ‘package:mice’:\n",
            "\n",
            "    complete\n",
            "\n",
            "\n",
            "Loading required package: Matrix\n",
            "\n",
            "\n",
            "Attaching package: ‘Matrix’\n",
            "\n",
            "\n",
            "The following object is masked from ‘package:bitops’:\n",
            "\n",
            "    %&%\n",
            "\n",
            "\n",
            "Loading required package: coda\n",
            "\n",
            "Loading required package: ape\n",
            "\n",
            "\n",
            "Attaching package: ‘ape’\n",
            "\n",
            "\n",
            "The following objects are masked from ‘package:igraph’:\n",
            "\n",
            "    degree, edges, mst, ring\n",
            "\n",
            "\n",
            "\n",
            "Attaching package: ‘MCMCglmm’\n",
            "\n",
            "\n",
            "The following objects are masked from ‘package:igraph’:\n",
            "\n",
            "    path, sir\n",
            "\n",
            "\n",
            "Loaded glmnet 4.1-8\n",
            "\n"
          ]
        },
        {
          "output_type": "display_data",
          "data": {
            "text/html": [
              "<ol>\n",
              "\t<li><style>\n",
              ".list-inline {list-style: none; margin:0; padding: 0}\n",
              ".list-inline>li {display: inline-block}\n",
              ".list-inline>li:not(:last-child)::after {content: \"\\00b7\"; padding: 0 .5ex}\n",
              "</style>\n",
              "<ol class=list-inline><li>'mice'</li><li>'missMDA'</li><li>'FactoMineR'</li><li>'stats'</li><li>'graphics'</li><li>'grDevices'</li><li>'utils'</li><li>'datasets'</li><li>'methods'</li><li>'base'</li></ol>\n",
              "</li>\n",
              "\t<li><style>\n",
              ".list-inline {list-style: none; margin:0; padding: 0}\n",
              ".list-inline>li {display: inline-block}\n",
              ".list-inline>li:not(:last-child)::after {content: \"\\00b7\"; padding: 0 .5ex}\n",
              "</style>\n",
              "<ol class=list-inline><li>'mice'</li><li>'missMDA'</li><li>'FactoMineR'</li><li>'stats'</li><li>'graphics'</li><li>'grDevices'</li><li>'utils'</li><li>'datasets'</li><li>'methods'</li><li>'base'</li></ol>\n",
              "</li>\n",
              "\t<li><style>\n",
              ".list-inline {list-style: none; margin:0; padding: 0}\n",
              ".list-inline>li {display: inline-block}\n",
              ".list-inline>li:not(:last-child)::after {content: \"\\00b7\"; padding: 0 .5ex}\n",
              "</style>\n",
              "<ol class=list-inline><li>'mice'</li><li>'missMDA'</li><li>'FactoMineR'</li><li>'stats'</li><li>'graphics'</li><li>'grDevices'</li><li>'utils'</li><li>'datasets'</li><li>'methods'</li><li>'base'</li></ol>\n",
              "</li>\n",
              "\t<li><style>\n",
              ".list-inline {list-style: none; margin:0; padding: 0}\n",
              ".list-inline>li {display: inline-block}\n",
              ".list-inline>li:not(:last-child)::after {content: \"\\00b7\"; padding: 0 .5ex}\n",
              "</style>\n",
              "<ol class=list-inline><li>'VIM'</li><li>'grid'</li><li>'colorspace'</li><li>'mice'</li><li>'missMDA'</li><li>'FactoMineR'</li><li>'stats'</li><li>'graphics'</li><li>'grDevices'</li><li>'utils'</li><li>'datasets'</li><li>'methods'</li><li>'base'</li></ol>\n",
              "</li>\n",
              "\t<li><style>\n",
              ".list-inline {list-style: none; margin:0; padding: 0}\n",
              ".list-inline>li {display: inline-block}\n",
              ".list-inline>li:not(:last-child)::after {content: \"\\00b7\"; padding: 0 .5ex}\n",
              "</style>\n",
              "<ol class=list-inline><li>'ggplot2'</li><li>'VIM'</li><li>'grid'</li><li>'colorspace'</li><li>'mice'</li><li>'missMDA'</li><li>'FactoMineR'</li><li>'stats'</li><li>'graphics'</li><li>'grDevices'</li><li>'utils'</li><li>'datasets'</li><li>'methods'</li><li>'base'</li></ol>\n",
              "</li>\n",
              "\t<li><style>\n",
              ".list-inline {list-style: none; margin:0; padding: 0}\n",
              ".list-inline>li {display: inline-block}\n",
              ".list-inline>li:not(:last-child)::after {content: \"\\00b7\"; padding: 0 .5ex}\n",
              "</style>\n",
              "<ol class=list-inline><li>'gridExtra'</li><li>'ggplot2'</li><li>'VIM'</li><li>'grid'</li><li>'colorspace'</li><li>'mice'</li><li>'missMDA'</li><li>'FactoMineR'</li><li>'stats'</li><li>'graphics'</li><li>'grDevices'</li><li>'utils'</li><li>'datasets'</li><li>'methods'</li><li>'base'</li></ol>\n",
              "</li>\n",
              "\t<li><style>\n",
              ".list-inline {list-style: none; margin:0; padding: 0}\n",
              ".list-inline>li {display: inline-block}\n",
              ".list-inline>li:not(:last-child)::after {content: \"\\00b7\"; padding: 0 .5ex}\n",
              "</style>\n",
              "<ol class=list-inline><li>'missForest'</li><li>'gridExtra'</li><li>'ggplot2'</li><li>'VIM'</li><li>'grid'</li><li>'colorspace'</li><li>'mice'</li><li>'missMDA'</li><li>'FactoMineR'</li><li>'stats'</li><li>'graphics'</li><li>'grDevices'</li><li>'utils'</li><li>'datasets'</li><li>'methods'</li><li>'base'</li></ol>\n",
              "</li>\n",
              "\t<li><style>\n",
              ".list-inline {list-style: none; margin:0; padding: 0}\n",
              ".list-inline>li {display: inline-block}\n",
              ".list-inline>li:not(:last-child)::after {content: \"\\00b7\"; padding: 0 .5ex}\n",
              "</style>\n",
              "<ol class=list-inline><li>'naniar'</li><li>'missForest'</li><li>'gridExtra'</li><li>'ggplot2'</li><li>'VIM'</li><li>'grid'</li><li>'colorspace'</li><li>'mice'</li><li>'missMDA'</li><li>'FactoMineR'</li><li>'stats'</li><li>'graphics'</li><li>'grDevices'</li><li>'utils'</li><li>'datasets'</li><li>'methods'</li><li>'base'</li></ol>\n",
              "</li>\n",
              "\t<li><style>\n",
              ".list-inline {list-style: none; margin:0; padding: 0}\n",
              ".list-inline>li {display: inline-block}\n",
              ".list-inline>li:not(:last-child)::after {content: \"\\00b7\"; padding: 0 .5ex}\n",
              "</style>\n",
              "<ol class=list-inline><li>'Amelia'</li><li>'Rcpp'</li><li>'naniar'</li><li>'missForest'</li><li>'gridExtra'</li><li>'ggplot2'</li><li>'VIM'</li><li>'grid'</li><li>'colorspace'</li><li>'mice'</li><li>'missMDA'</li><li>'FactoMineR'</li><li>'stats'</li><li>'graphics'</li><li>'grDevices'</li><li>'utils'</li><li>'datasets'</li><li>'methods'</li><li>'base'</li></ol>\n",
              "</li>\n",
              "\t<li><style>\n",
              ".list-inline {list-style: none; margin:0; padding: 0}\n",
              ".list-inline>li {display: inline-block}\n",
              ".list-inline>li:not(:last-child)::after {content: \"\\00b7\"; padding: 0 .5ex}\n",
              "</style>\n",
              "<ol class=list-inline><li>'bnstruct'</li><li>'igraph'</li><li>'bitops'</li><li>'Amelia'</li><li>'Rcpp'</li><li>'naniar'</li><li>'missForest'</li><li>'gridExtra'</li><li>'ggplot2'</li><li>'VIM'</li><li>'grid'</li><li>'colorspace'</li><li>'mice'</li><li>'missMDA'</li><li>'FactoMineR'</li><li>'stats'</li><li>'graphics'</li><li>'grDevices'</li><li>'utils'</li><li>'datasets'</li><li>'methods'</li><li>'base'</li></ol>\n",
              "</li>\n",
              "\t<li><style>\n",
              ".list-inline {list-style: none; margin:0; padding: 0}\n",
              ".list-inline>li {display: inline-block}\n",
              ".list-inline>li:not(:last-child)::after {content: \"\\00b7\"; padding: 0 .5ex}\n",
              "</style>\n",
              "<ol class=list-inline><li>'lme4'</li><li>'Matrix'</li><li>'bnstruct'</li><li>'igraph'</li><li>'bitops'</li><li>'Amelia'</li><li>'Rcpp'</li><li>'naniar'</li><li>'missForest'</li><li>'gridExtra'</li><li>'ggplot2'</li><li>'VIM'</li><li>'grid'</li><li>'colorspace'</li><li>'mice'</li><li>'missMDA'</li><li>'FactoMineR'</li><li>'stats'</li><li>'graphics'</li><li>'grDevices'</li><li>'utils'</li><li>'datasets'</li><li>'methods'</li><li>'base'</li></ol>\n",
              "</li>\n",
              "\t<li><style>\n",
              ".list-inline {list-style: none; margin:0; padding: 0}\n",
              ".list-inline>li {display: inline-block}\n",
              ".list-inline>li:not(:last-child)::after {content: \"\\00b7\"; padding: 0 .5ex}\n",
              "</style>\n",
              "<ol class=list-inline><li>'MCMCglmm'</li><li>'ape'</li><li>'coda'</li><li>'lme4'</li><li>'Matrix'</li><li>'bnstruct'</li><li>'igraph'</li><li>'bitops'</li><li>'Amelia'</li><li>'Rcpp'</li><li>'naniar'</li><li>'missForest'</li><li>'gridExtra'</li><li>'ggplot2'</li><li>'VIM'</li><li>'grid'</li><li>'colorspace'</li><li>'mice'</li><li>'missMDA'</li><li>'FactoMineR'</li><li>'stats'</li><li>'graphics'</li><li>'grDevices'</li><li>'utils'</li><li>'datasets'</li><li>'methods'</li><li>'base'</li></ol>\n",
              "</li>\n",
              "\t<li><style>\n",
              ".list-inline {list-style: none; margin:0; padding: 0}\n",
              ".list-inline>li {display: inline-block}\n",
              ".list-inline>li:not(:last-child)::after {content: \"\\00b7\"; padding: 0 .5ex}\n",
              "</style>\n",
              "<ol class=list-inline><li>'glmnet'</li><li>'MCMCglmm'</li><li>'ape'</li><li>'coda'</li><li>'lme4'</li><li>'Matrix'</li><li>'bnstruct'</li><li>'igraph'</li><li>'bitops'</li><li>'Amelia'</li><li>'Rcpp'</li><li>'naniar'</li><li>'missForest'</li><li>'gridExtra'</li><li>'ggplot2'</li><li>'VIM'</li><li>'grid'</li><li>'colorspace'</li><li>'mice'</li><li>'missMDA'</li><li>'FactoMineR'</li><li>'stats'</li><li>'graphics'</li><li>'grDevices'</li><li>'utils'</li><li>'datasets'</li><li>'methods'</li><li>'base'</li></ol>\n",
              "</li>\n",
              "</ol>\n"
            ],
            "text/markdown": "1. 1. 'mice'\n2. 'missMDA'\n3. 'FactoMineR'\n4. 'stats'\n5. 'graphics'\n6. 'grDevices'\n7. 'utils'\n8. 'datasets'\n9. 'methods'\n10. 'base'\n\n\n\n2. 1. 'mice'\n2. 'missMDA'\n3. 'FactoMineR'\n4. 'stats'\n5. 'graphics'\n6. 'grDevices'\n7. 'utils'\n8. 'datasets'\n9. 'methods'\n10. 'base'\n\n\n\n3. 1. 'mice'\n2. 'missMDA'\n3. 'FactoMineR'\n4. 'stats'\n5. 'graphics'\n6. 'grDevices'\n7. 'utils'\n8. 'datasets'\n9. 'methods'\n10. 'base'\n\n\n\n4. 1. 'VIM'\n2. 'grid'\n3. 'colorspace'\n4. 'mice'\n5. 'missMDA'\n6. 'FactoMineR'\n7. 'stats'\n8. 'graphics'\n9. 'grDevices'\n10. 'utils'\n11. 'datasets'\n12. 'methods'\n13. 'base'\n\n\n\n5. 1. 'ggplot2'\n2. 'VIM'\n3. 'grid'\n4. 'colorspace'\n5. 'mice'\n6. 'missMDA'\n7. 'FactoMineR'\n8. 'stats'\n9. 'graphics'\n10. 'grDevices'\n11. 'utils'\n12. 'datasets'\n13. 'methods'\n14. 'base'\n\n\n\n6. 1. 'gridExtra'\n2. 'ggplot2'\n3. 'VIM'\n4. 'grid'\n5. 'colorspace'\n6. 'mice'\n7. 'missMDA'\n8. 'FactoMineR'\n9. 'stats'\n10. 'graphics'\n11. 'grDevices'\n12. 'utils'\n13. 'datasets'\n14. 'methods'\n15. 'base'\n\n\n\n7. 1. 'missForest'\n2. 'gridExtra'\n3. 'ggplot2'\n4. 'VIM'\n5. 'grid'\n6. 'colorspace'\n7. 'mice'\n8. 'missMDA'\n9. 'FactoMineR'\n10. 'stats'\n11. 'graphics'\n12. 'grDevices'\n13. 'utils'\n14. 'datasets'\n15. 'methods'\n16. 'base'\n\n\n\n8. 1. 'naniar'\n2. 'missForest'\n3. 'gridExtra'\n4. 'ggplot2'\n5. 'VIM'\n6. 'grid'\n7. 'colorspace'\n8. 'mice'\n9. 'missMDA'\n10. 'FactoMineR'\n11. 'stats'\n12. 'graphics'\n13. 'grDevices'\n14. 'utils'\n15. 'datasets'\n16. 'methods'\n17. 'base'\n\n\n\n9. 1. 'Amelia'\n2. 'Rcpp'\n3. 'naniar'\n4. 'missForest'\n5. 'gridExtra'\n6. 'ggplot2'\n7. 'VIM'\n8. 'grid'\n9. 'colorspace'\n10. 'mice'\n11. 'missMDA'\n12. 'FactoMineR'\n13. 'stats'\n14. 'graphics'\n15. 'grDevices'\n16. 'utils'\n17. 'datasets'\n18. 'methods'\n19. 'base'\n\n\n\n10. 1. 'bnstruct'\n2. 'igraph'\n3. 'bitops'\n4. 'Amelia'\n5. 'Rcpp'\n6. 'naniar'\n7. 'missForest'\n8. 'gridExtra'\n9. 'ggplot2'\n10. 'VIM'\n11. 'grid'\n12. 'colorspace'\n13. 'mice'\n14. 'missMDA'\n15. 'FactoMineR'\n16. 'stats'\n17. 'graphics'\n18. 'grDevices'\n19. 'utils'\n20. 'datasets'\n21. 'methods'\n22. 'base'\n\n\n\n11. 1. 'lme4'\n2. 'Matrix'\n3. 'bnstruct'\n4. 'igraph'\n5. 'bitops'\n6. 'Amelia'\n7. 'Rcpp'\n8. 'naniar'\n9. 'missForest'\n10. 'gridExtra'\n11. 'ggplot2'\n12. 'VIM'\n13. 'grid'\n14. 'colorspace'\n15. 'mice'\n16. 'missMDA'\n17. 'FactoMineR'\n18. 'stats'\n19. 'graphics'\n20. 'grDevices'\n21. 'utils'\n22. 'datasets'\n23. 'methods'\n24. 'base'\n\n\n\n12. 1. 'MCMCglmm'\n2. 'ape'\n3. 'coda'\n4. 'lme4'\n5. 'Matrix'\n6. 'bnstruct'\n7. 'igraph'\n8. 'bitops'\n9. 'Amelia'\n10. 'Rcpp'\n11. 'naniar'\n12. 'missForest'\n13. 'gridExtra'\n14. 'ggplot2'\n15. 'VIM'\n16. 'grid'\n17. 'colorspace'\n18. 'mice'\n19. 'missMDA'\n20. 'FactoMineR'\n21. 'stats'\n22. 'graphics'\n23. 'grDevices'\n24. 'utils'\n25. 'datasets'\n26. 'methods'\n27. 'base'\n\n\n\n13. 1. 'glmnet'\n2. 'MCMCglmm'\n3. 'ape'\n4. 'coda'\n5. 'lme4'\n6. 'Matrix'\n7. 'bnstruct'\n8. 'igraph'\n9. 'bitops'\n10. 'Amelia'\n11. 'Rcpp'\n12. 'naniar'\n13. 'missForest'\n14. 'gridExtra'\n15. 'ggplot2'\n16. 'VIM'\n17. 'grid'\n18. 'colorspace'\n19. 'mice'\n20. 'missMDA'\n21. 'FactoMineR'\n22. 'stats'\n23. 'graphics'\n24. 'grDevices'\n25. 'utils'\n26. 'datasets'\n27. 'methods'\n28. 'base'\n\n\n\n\n\n",
            "text/latex": "\\begin{enumerate}\n\\item \\begin{enumerate*}\n\\item 'mice'\n\\item 'missMDA'\n\\item 'FactoMineR'\n\\item 'stats'\n\\item 'graphics'\n\\item 'grDevices'\n\\item 'utils'\n\\item 'datasets'\n\\item 'methods'\n\\item 'base'\n\\end{enumerate*}\n\n\\item \\begin{enumerate*}\n\\item 'mice'\n\\item 'missMDA'\n\\item 'FactoMineR'\n\\item 'stats'\n\\item 'graphics'\n\\item 'grDevices'\n\\item 'utils'\n\\item 'datasets'\n\\item 'methods'\n\\item 'base'\n\\end{enumerate*}\n\n\\item \\begin{enumerate*}\n\\item 'mice'\n\\item 'missMDA'\n\\item 'FactoMineR'\n\\item 'stats'\n\\item 'graphics'\n\\item 'grDevices'\n\\item 'utils'\n\\item 'datasets'\n\\item 'methods'\n\\item 'base'\n\\end{enumerate*}\n\n\\item \\begin{enumerate*}\n\\item 'VIM'\n\\item 'grid'\n\\item 'colorspace'\n\\item 'mice'\n\\item 'missMDA'\n\\item 'FactoMineR'\n\\item 'stats'\n\\item 'graphics'\n\\item 'grDevices'\n\\item 'utils'\n\\item 'datasets'\n\\item 'methods'\n\\item 'base'\n\\end{enumerate*}\n\n\\item \\begin{enumerate*}\n\\item 'ggplot2'\n\\item 'VIM'\n\\item 'grid'\n\\item 'colorspace'\n\\item 'mice'\n\\item 'missMDA'\n\\item 'FactoMineR'\n\\item 'stats'\n\\item 'graphics'\n\\item 'grDevices'\n\\item 'utils'\n\\item 'datasets'\n\\item 'methods'\n\\item 'base'\n\\end{enumerate*}\n\n\\item \\begin{enumerate*}\n\\item 'gridExtra'\n\\item 'ggplot2'\n\\item 'VIM'\n\\item 'grid'\n\\item 'colorspace'\n\\item 'mice'\n\\item 'missMDA'\n\\item 'FactoMineR'\n\\item 'stats'\n\\item 'graphics'\n\\item 'grDevices'\n\\item 'utils'\n\\item 'datasets'\n\\item 'methods'\n\\item 'base'\n\\end{enumerate*}\n\n\\item \\begin{enumerate*}\n\\item 'missForest'\n\\item 'gridExtra'\n\\item 'ggplot2'\n\\item 'VIM'\n\\item 'grid'\n\\item 'colorspace'\n\\item 'mice'\n\\item 'missMDA'\n\\item 'FactoMineR'\n\\item 'stats'\n\\item 'graphics'\n\\item 'grDevices'\n\\item 'utils'\n\\item 'datasets'\n\\item 'methods'\n\\item 'base'\n\\end{enumerate*}\n\n\\item \\begin{enumerate*}\n\\item 'naniar'\n\\item 'missForest'\n\\item 'gridExtra'\n\\item 'ggplot2'\n\\item 'VIM'\n\\item 'grid'\n\\item 'colorspace'\n\\item 'mice'\n\\item 'missMDA'\n\\item 'FactoMineR'\n\\item 'stats'\n\\item 'graphics'\n\\item 'grDevices'\n\\item 'utils'\n\\item 'datasets'\n\\item 'methods'\n\\item 'base'\n\\end{enumerate*}\n\n\\item \\begin{enumerate*}\n\\item 'Amelia'\n\\item 'Rcpp'\n\\item 'naniar'\n\\item 'missForest'\n\\item 'gridExtra'\n\\item 'ggplot2'\n\\item 'VIM'\n\\item 'grid'\n\\item 'colorspace'\n\\item 'mice'\n\\item 'missMDA'\n\\item 'FactoMineR'\n\\item 'stats'\n\\item 'graphics'\n\\item 'grDevices'\n\\item 'utils'\n\\item 'datasets'\n\\item 'methods'\n\\item 'base'\n\\end{enumerate*}\n\n\\item \\begin{enumerate*}\n\\item 'bnstruct'\n\\item 'igraph'\n\\item 'bitops'\n\\item 'Amelia'\n\\item 'Rcpp'\n\\item 'naniar'\n\\item 'missForest'\n\\item 'gridExtra'\n\\item 'ggplot2'\n\\item 'VIM'\n\\item 'grid'\n\\item 'colorspace'\n\\item 'mice'\n\\item 'missMDA'\n\\item 'FactoMineR'\n\\item 'stats'\n\\item 'graphics'\n\\item 'grDevices'\n\\item 'utils'\n\\item 'datasets'\n\\item 'methods'\n\\item 'base'\n\\end{enumerate*}\n\n\\item \\begin{enumerate*}\n\\item 'lme4'\n\\item 'Matrix'\n\\item 'bnstruct'\n\\item 'igraph'\n\\item 'bitops'\n\\item 'Amelia'\n\\item 'Rcpp'\n\\item 'naniar'\n\\item 'missForest'\n\\item 'gridExtra'\n\\item 'ggplot2'\n\\item 'VIM'\n\\item 'grid'\n\\item 'colorspace'\n\\item 'mice'\n\\item 'missMDA'\n\\item 'FactoMineR'\n\\item 'stats'\n\\item 'graphics'\n\\item 'grDevices'\n\\item 'utils'\n\\item 'datasets'\n\\item 'methods'\n\\item 'base'\n\\end{enumerate*}\n\n\\item \\begin{enumerate*}\n\\item 'MCMCglmm'\n\\item 'ape'\n\\item 'coda'\n\\item 'lme4'\n\\item 'Matrix'\n\\item 'bnstruct'\n\\item 'igraph'\n\\item 'bitops'\n\\item 'Amelia'\n\\item 'Rcpp'\n\\item 'naniar'\n\\item 'missForest'\n\\item 'gridExtra'\n\\item 'ggplot2'\n\\item 'VIM'\n\\item 'grid'\n\\item 'colorspace'\n\\item 'mice'\n\\item 'missMDA'\n\\item 'FactoMineR'\n\\item 'stats'\n\\item 'graphics'\n\\item 'grDevices'\n\\item 'utils'\n\\item 'datasets'\n\\item 'methods'\n\\item 'base'\n\\end{enumerate*}\n\n\\item \\begin{enumerate*}\n\\item 'glmnet'\n\\item 'MCMCglmm'\n\\item 'ape'\n\\item 'coda'\n\\item 'lme4'\n\\item 'Matrix'\n\\item 'bnstruct'\n\\item 'igraph'\n\\item 'bitops'\n\\item 'Amelia'\n\\item 'Rcpp'\n\\item 'naniar'\n\\item 'missForest'\n\\item 'gridExtra'\n\\item 'ggplot2'\n\\item 'VIM'\n\\item 'grid'\n\\item 'colorspace'\n\\item 'mice'\n\\item 'missMDA'\n\\item 'FactoMineR'\n\\item 'stats'\n\\item 'graphics'\n\\item 'grDevices'\n\\item 'utils'\n\\item 'datasets'\n\\item 'methods'\n\\item 'base'\n\\end{enumerate*}\n\n\\end{enumerate}\n",
            "text/plain": [
              "[[1]]\n",
              " [1] \"mice\"       \"missMDA\"    \"FactoMineR\" \"stats\"      \"graphics\"  \n",
              " [6] \"grDevices\"  \"utils\"      \"datasets\"   \"methods\"    \"base\"      \n",
              "\n",
              "[[2]]\n",
              " [1] \"mice\"       \"missMDA\"    \"FactoMineR\" \"stats\"      \"graphics\"  \n",
              " [6] \"grDevices\"  \"utils\"      \"datasets\"   \"methods\"    \"base\"      \n",
              "\n",
              "[[3]]\n",
              " [1] \"mice\"       \"missMDA\"    \"FactoMineR\" \"stats\"      \"graphics\"  \n",
              " [6] \"grDevices\"  \"utils\"      \"datasets\"   \"methods\"    \"base\"      \n",
              "\n",
              "[[4]]\n",
              " [1] \"VIM\"        \"grid\"       \"colorspace\" \"mice\"       \"missMDA\"   \n",
              " [6] \"FactoMineR\" \"stats\"      \"graphics\"   \"grDevices\"  \"utils\"     \n",
              "[11] \"datasets\"   \"methods\"    \"base\"      \n",
              "\n",
              "[[5]]\n",
              " [1] \"ggplot2\"    \"VIM\"        \"grid\"       \"colorspace\" \"mice\"      \n",
              " [6] \"missMDA\"    \"FactoMineR\" \"stats\"      \"graphics\"   \"grDevices\" \n",
              "[11] \"utils\"      \"datasets\"   \"methods\"    \"base\"      \n",
              "\n",
              "[[6]]\n",
              " [1] \"gridExtra\"  \"ggplot2\"    \"VIM\"        \"grid\"       \"colorspace\"\n",
              " [6] \"mice\"       \"missMDA\"    \"FactoMineR\" \"stats\"      \"graphics\"  \n",
              "[11] \"grDevices\"  \"utils\"      \"datasets\"   \"methods\"    \"base\"      \n",
              "\n",
              "[[7]]\n",
              " [1] \"missForest\" \"gridExtra\"  \"ggplot2\"    \"VIM\"        \"grid\"      \n",
              " [6] \"colorspace\" \"mice\"       \"missMDA\"    \"FactoMineR\" \"stats\"     \n",
              "[11] \"graphics\"   \"grDevices\"  \"utils\"      \"datasets\"   \"methods\"   \n",
              "[16] \"base\"      \n",
              "\n",
              "[[8]]\n",
              " [1] \"naniar\"     \"missForest\" \"gridExtra\"  \"ggplot2\"    \"VIM\"       \n",
              " [6] \"grid\"       \"colorspace\" \"mice\"       \"missMDA\"    \"FactoMineR\"\n",
              "[11] \"stats\"      \"graphics\"   \"grDevices\"  \"utils\"      \"datasets\"  \n",
              "[16] \"methods\"    \"base\"      \n",
              "\n",
              "[[9]]\n",
              " [1] \"Amelia\"     \"Rcpp\"       \"naniar\"     \"missForest\" \"gridExtra\" \n",
              " [6] \"ggplot2\"    \"VIM\"        \"grid\"       \"colorspace\" \"mice\"      \n",
              "[11] \"missMDA\"    \"FactoMineR\" \"stats\"      \"graphics\"   \"grDevices\" \n",
              "[16] \"utils\"      \"datasets\"   \"methods\"    \"base\"      \n",
              "\n",
              "[[10]]\n",
              " [1] \"bnstruct\"   \"igraph\"     \"bitops\"     \"Amelia\"     \"Rcpp\"      \n",
              " [6] \"naniar\"     \"missForest\" \"gridExtra\"  \"ggplot2\"    \"VIM\"       \n",
              "[11] \"grid\"       \"colorspace\" \"mice\"       \"missMDA\"    \"FactoMineR\"\n",
              "[16] \"stats\"      \"graphics\"   \"grDevices\"  \"utils\"      \"datasets\"  \n",
              "[21] \"methods\"    \"base\"      \n",
              "\n",
              "[[11]]\n",
              " [1] \"lme4\"       \"Matrix\"     \"bnstruct\"   \"igraph\"     \"bitops\"    \n",
              " [6] \"Amelia\"     \"Rcpp\"       \"naniar\"     \"missForest\" \"gridExtra\" \n",
              "[11] \"ggplot2\"    \"VIM\"        \"grid\"       \"colorspace\" \"mice\"      \n",
              "[16] \"missMDA\"    \"FactoMineR\" \"stats\"      \"graphics\"   \"grDevices\" \n",
              "[21] \"utils\"      \"datasets\"   \"methods\"    \"base\"      \n",
              "\n",
              "[[12]]\n",
              " [1] \"MCMCglmm\"   \"ape\"        \"coda\"       \"lme4\"       \"Matrix\"    \n",
              " [6] \"bnstruct\"   \"igraph\"     \"bitops\"     \"Amelia\"     \"Rcpp\"      \n",
              "[11] \"naniar\"     \"missForest\" \"gridExtra\"  \"ggplot2\"    \"VIM\"       \n",
              "[16] \"grid\"       \"colorspace\" \"mice\"       \"missMDA\"    \"FactoMineR\"\n",
              "[21] \"stats\"      \"graphics\"   \"grDevices\"  \"utils\"      \"datasets\"  \n",
              "[26] \"methods\"    \"base\"      \n",
              "\n",
              "[[13]]\n",
              " [1] \"glmnet\"     \"MCMCglmm\"   \"ape\"        \"coda\"       \"lme4\"      \n",
              " [6] \"Matrix\"     \"bnstruct\"   \"igraph\"     \"bitops\"     \"Amelia\"    \n",
              "[11] \"Rcpp\"       \"naniar\"     \"missForest\" \"gridExtra\"  \"ggplot2\"   \n",
              "[16] \"VIM\"        \"grid\"       \"colorspace\" \"mice\"       \"missMDA\"   \n",
              "[21] \"FactoMineR\" \"stats\"      \"graphics\"   \"grDevices\"  \"utils\"     \n",
              "[26] \"datasets\"   \"methods\"    \"base\"      \n"
            ]
          },
          "metadata": {}
        }
      ]
    },
    {
      "cell_type": "code",
      "source": [
        "library(lme4)          # for lmer\n",
        "library(MCMCglmm)      # for MCMCglmm\n",
        "library(Amelia)        # for amelia\n",
        "library(ggplot2)       # for plotting\n",
        "library(gridExtra)     # for arranging plots\n",
        "library(naniar)        # for missing data analysis\n",
        "library(VIM)\n",
        "library(naniar)\n",
        "library(UpSetR)\n"
      ],
      "metadata": {
        "id": "XXNLNwnT8CSa"
      },
      "id": "XXNLNwnT8CSa",
      "execution_count": 40,
      "outputs": []
    },
    {
      "cell_type": "markdown",
      "source": [
        "## Donnée générée\n",
        "\n",
        "Dans cette cellule, après avoir lu l'article, j'ai recherché les algorithmes des méthodes de traitement des données manquantes mentionnées sur le site de Julie Josse et je les ai d'abord testés avec des données générées.\n"
      ],
      "metadata": {
        "id": "jOL-4-l39Fz5"
      },
      "id": "jOL-4-l39Fz5"
    },
    {
      "cell_type": "code",
      "source": [
        "# Générer des données avec valeurs manquantes\n",
        "set.seed(123)\n",
        "data <- data.frame(\n",
        "  X1 = c(rnorm(10, mean = 5), rep(NA, 5)),\n",
        "  X2 = c(rnorm(10, mean = 3), rep(NA, 5)),\n",
        "  X3 = c(rnorm(10, mean = 8), rep(NA, 5)),\n",
        "  Group = factor(rep(1:3, each = 5))\n",
        ")\n",
        "print(\"Données avec valeurs manquantes :\")\n",
        "print(data)"
      ],
      "metadata": {
        "colab": {
          "base_uri": "https://localhost:8080/",
          "height": 0
        },
        "id": "ej9rsu-48Iyd",
        "outputId": "e01bdb89-38a8-459c-c754-643fce89cae9"
      },
      "id": "ej9rsu-48Iyd",
      "execution_count": 22,
      "outputs": [
        {
          "output_type": "stream",
          "name": "stdout",
          "text": [
            "[1] \"Données avec valeurs manquantes :\"\n",
            "         X1       X2       X3 Group\n",
            "1  4.439524 4.224082 6.932176     1\n",
            "2  4.769823 3.359814 7.782025     1\n",
            "3  6.558708 3.400771 6.973996     1\n",
            "4  5.070508 3.110683 7.271109     1\n",
            "5  5.129288 2.444159 7.374961     1\n",
            "6  6.715065 4.786913 6.313307     2\n",
            "7  5.460916 3.497850 8.837787     2\n",
            "8  3.734939 1.033383 8.153373     2\n",
            "9  4.313147 3.701356 6.861863     2\n",
            "10 4.554338 2.527209 9.253815     2\n",
            "11       NA       NA       NA     3\n",
            "12       NA       NA       NA     3\n",
            "13       NA       NA       NA     3\n",
            "14       NA       NA       NA     3\n",
            "15       NA       NA       NA     3\n"
          ]
        }
      ]
    },
    {
      "cell_type": "markdown",
      "source": [
        " SECTION 1: IMPUTATION SIMPLE ET MULTIPLE\n"
      ],
      "metadata": {
        "id": "iwm477Ky-fE7"
      },
      "id": "iwm477Ky-fE7"
    },
    {
      "cell_type": "code",
      "source": [
        "# 1. Imputation Simple (Moyenne)\n",
        "data_imputed_mean <- data\n",
        "for(i in 1:3) {  # Sur les colonnes numériques uniquement\n",
        "  data_imputed_mean[is.na(data_imputed_mean[, i]), i] <- mean(data_imputed_mean[, i], na.rm = TRUE)\n",
        "}\n",
        "print(\"Imputation par la moyenne :\")\n",
        "print(data_imputed_mean)"
      ],
      "metadata": {
        "colab": {
          "base_uri": "https://localhost:8080/",
          "height": 0
        },
        "id": "5RtvduQC-gE-",
        "outputId": "a9bcc306-7d3f-4055-cbab-d1373489163d"
      },
      "id": "5RtvduQC-gE-",
      "execution_count": 23,
      "outputs": [
        {
          "output_type": "stream",
          "name": "stdout",
          "text": [
            "[1] \"Imputation par la moyenne :\"\n",
            "         X1       X2       X3 Group\n",
            "1  4.439524 4.224082 6.932176     1\n",
            "2  4.769823 3.359814 7.782025     1\n",
            "3  6.558708 3.400771 6.973996     1\n",
            "4  5.070508 3.110683 7.271109     1\n",
            "5  5.129288 2.444159 7.374961     1\n",
            "6  6.715065 4.786913 6.313307     2\n",
            "7  5.460916 3.497850 8.837787     2\n",
            "8  3.734939 1.033383 8.153373     2\n",
            "9  4.313147 3.701356 6.861863     2\n",
            "10 4.554338 2.527209 9.253815     2\n",
            "11 5.074626 3.208622 7.575441     3\n",
            "12 5.074626 3.208622 7.575441     3\n",
            "13 5.074626 3.208622 7.575441     3\n",
            "14 5.074626 3.208622 7.575441     3\n",
            "15 5.074626 3.208622 7.575441     3\n"
          ]
        }
      ]
    },
    {
      "cell_type": "code",
      "source": [
        "# 2. Imputation Simple (Médiane)\n",
        "data_imputed_median <- data\n",
        "for(i in 1:3) {  # Sur les colonnes numériques uniquement\n",
        "  data_imputed_median[is.na(data_imputed_median[, i]), i] <- median(data_imputed_median[, i], na.rm = TRUE)\n",
        "}\n",
        "print(\"Imputation par la médiane :\")\n",
        "print(data_imputed_median)"
      ],
      "metadata": {
        "colab": {
          "base_uri": "https://localhost:8080/",
          "height": 0
        },
        "id": "5y_luyIn-i7C",
        "outputId": "62071b55-27f8-4923-9005-1a53186a75f1"
      },
      "id": "5y_luyIn-i7C",
      "execution_count": 24,
      "outputs": [
        {
          "output_type": "stream",
          "name": "stdout",
          "text": [
            "[1] \"Imputation par la médiane :\"\n",
            "         X1       X2       X3 Group\n",
            "1  4.439524 4.224082 6.932176     1\n",
            "2  4.769823 3.359814 7.782025     1\n",
            "3  6.558708 3.400771 6.973996     1\n",
            "4  5.070508 3.110683 7.271109     1\n",
            "5  5.129288 2.444159 7.374961     1\n",
            "6  6.715065 4.786913 6.313307     2\n",
            "7  5.460916 3.497850 8.837787     2\n",
            "8  3.734939 1.033383 8.153373     2\n",
            "9  4.313147 3.701356 6.861863     2\n",
            "10 4.554338 2.527209 9.253815     2\n",
            "11 4.920165 3.380293 7.323035     3\n",
            "12 4.920165 3.380293 7.323035     3\n",
            "13 4.920165 3.380293 7.323035     3\n",
            "14 4.920165 3.380293 7.323035     3\n",
            "15 4.920165 3.380293 7.323035     3\n"
          ]
        }
      ]
    },
    {
      "cell_type": "code",
      "source": [
        "# 3. Imputation Multiple avec 'mice'\n",
        "\n",
        "data_imputed_mice <- mice(data[,1:3], m = 5, maxit = 50, method = 'pmm', seed = 500)\n",
        "data_imputed_mice_complete <- mice::complete(data_imputed_mice, 1)\n",
        "print(\"Imputation multiple avec 'mice' :\")\n",
        "print(data_imputed_mice_complete)"
      ],
      "metadata": {
        "colab": {
          "base_uri": "https://localhost:8080/",
          "height": 0
        },
        "id": "nwajn6NS-lSB",
        "outputId": "9797cdaf-bd82-4e13-edbd-ecb36ee3ec58"
      },
      "id": "nwajn6NS-lSB",
      "execution_count": 25,
      "outputs": [
        {
          "output_type": "stream",
          "name": "stdout",
          "text": [
            "\n",
            " iter imp variable\n",
            "  1   1  X1  X2  X3\n",
            "  1   2  X1  X2  X3\n",
            "  1   3  X1  X2  X3\n",
            "  1   4  X1  X2  X3\n",
            "  1   5  X1  X2  X3\n",
            "  2   1  X1  X2  X3\n",
            "  2   2  X1  X2  X3\n",
            "  2   3  X1  X2  X3\n",
            "  2   4  X1  X2  X3\n",
            "  2   5  X1  X2  X3\n",
            "  3   1  X1  X2  X3\n",
            "  3   2  X1  X2  X3\n",
            "  3   3  X1  X2  X3\n",
            "  3   4  X1  X2  X3\n",
            "  3   5  X1  X2  X3\n",
            "  4   1  X1  X2  X3\n",
            "  4   2  X1  X2  X3\n",
            "  4   3  X1  X2  X3\n",
            "  4   4  X1  X2  X3\n",
            "  4   5  X1  X2  X3\n",
            "  5   1  X1  X2  X3\n",
            "  5   2  X1  X2  X3\n",
            "  5   3  X1  X2  X3\n",
            "  5   4  X1  X2  X3\n",
            "  5   5  X1  X2  X3\n",
            "  6   1  X1  X2  X3\n",
            "  6   2  X1  X2  X3\n",
            "  6   3  X1  X2  X3\n",
            "  6   4  X1  X2  X3\n",
            "  6   5  X1  X2  X3\n",
            "  7   1  X1  X2  X3\n",
            "  7   2  X1  X2  X3\n",
            "  7   3  X1  X2  X3\n",
            "  7   4  X1  X2  X3\n",
            "  7   5  X1  X2  X3\n",
            "  8   1  X1  X2  X3\n",
            "  8   2  X1  X2  X3\n",
            "  8   3  X1  X2  X3\n",
            "  8   4  X1  X2  X3\n",
            "  8   5  X1  X2  X3\n",
            "  9   1  X1  X2  X3\n",
            "  9   2  X1  X2  X3\n",
            "  9   3  X1  X2  X3\n",
            "  9   4  X1  X2  X3\n",
            "  9   5  X1  X2  X3\n",
            "  10   1  X1  X2  X3\n",
            "  10   2  X1  X2  X3\n",
            "  10   3  X1  X2  X3\n",
            "  10   4  X1  X2  X3\n",
            "  10   5  X1  X2  X3\n",
            "  11   1  X1  X2  X3\n",
            "  11   2  X1  X2  X3\n",
            "  11   3  X1  X2  X3\n",
            "  11   4  X1  X2  X3\n",
            "  11   5  X1  X2  X3\n",
            "  12   1  X1  X2  X3\n",
            "  12   2  X1  X2  X3\n",
            "  12   3  X1  X2  X3\n",
            "  12   4  X1  X2  X3\n",
            "  12   5  X1  X2  X3\n",
            "  13   1  X1  X2  X3\n",
            "  13   2  X1  X2  X3\n",
            "  13   3  X1  X2  X3\n",
            "  13   4  X1  X2  X3\n",
            "  13   5  X1  X2  X3\n",
            "  14   1  X1  X2  X3\n",
            "  14   2  X1  X2  X3\n",
            "  14   3  X1  X2  X3\n",
            "  14   4  X1  X2  X3\n",
            "  14   5  X1  X2  X3\n",
            "  15   1  X1  X2  X3\n",
            "  15   2  X1  X2  X3\n",
            "  15   3  X1  X2  X3\n",
            "  15   4  X1  X2  X3\n",
            "  15   5  X1  X2  X3\n",
            "  16   1  X1  X2  X3\n",
            "  16   2  X1  X2  X3\n",
            "  16   3  X1  X2  X3\n",
            "  16   4  X1  X2  X3\n",
            "  16   5  X1  X2  X3\n",
            "  17   1  X1  X2  X3\n",
            "  17   2  X1  X2  X3\n",
            "  17   3  X1  X2  X3\n",
            "  17   4  X1  X2  X3\n",
            "  17   5  X1  X2  X3\n",
            "  18   1  X1  X2  X3\n",
            "  18   2  X1  X2  X3\n",
            "  18   3  X1  X2  X3\n",
            "  18   4  X1  X2  X3\n",
            "  18   5  X1  X2  X3\n",
            "  19   1  X1  X2  X3\n",
            "  19   2  X1  X2  X3\n",
            "  19   3  X1  X2  X3\n",
            "  19   4  X1  X2  X3\n",
            "  19   5  X1  X2  X3\n",
            "  20   1  X1  X2  X3\n",
            "  20   2  X1  X2  X3\n",
            "  20   3  X1  X2  X3\n",
            "  20   4  X1  X2  X3\n",
            "  20   5  X1  X2  X3\n",
            "  21   1  X1  X2  X3\n",
            "  21   2  X1  X2  X3\n",
            "  21   3  X1  X2  X3\n",
            "  21   4  X1  X2  X3\n",
            "  21   5  X1  X2  X3\n",
            "  22   1  X1  X2  X3\n",
            "  22   2  X1  X2  X3\n",
            "  22   3  X1  X2  X3\n",
            "  22   4  X1  X2  X3\n",
            "  22   5  X1  X2  X3\n",
            "  23   1  X1  X2  X3\n",
            "  23   2  X1  X2  X3\n",
            "  23   3  X1  X2  X3\n",
            "  23   4  X1  X2  X3\n",
            "  23   5  X1  X2  X3\n",
            "  24   1  X1  X2  X3\n",
            "  24   2  X1  X2  X3\n",
            "  24   3  X1  X2  X3\n",
            "  24   4  X1  X2  X3\n",
            "  24   5  X1  X2  X3\n",
            "  25   1  X1  X2  X3\n",
            "  25   2  X1  X2  X3\n",
            "  25   3  X1  X2  X3\n",
            "  25   4  X1  X2  X3\n",
            "  25   5  X1  X2  X3\n",
            "  26   1  X1  X2  X3\n",
            "  26   2  X1  X2  X3\n",
            "  26   3  X1  X2  X3\n",
            "  26   4  X1  X2  X3\n",
            "  26   5  X1  X2  X3\n",
            "  27   1  X1  X2  X3\n",
            "  27   2  X1  X2  X3\n",
            "  27   3  X1  X2  X3\n",
            "  27   4  X1  X2  X3\n",
            "  27   5  X1  X2  X3\n",
            "  28   1  X1  X2  X3\n",
            "  28   2  X1  X2  X3\n",
            "  28   3  X1  X2  X3\n",
            "  28   4  X1  X2  X3\n",
            "  28   5  X1  X2  X3\n",
            "  29   1  X1  X2  X3\n",
            "  29   2  X1  X2  X3\n",
            "  29   3  X1  X2  X3\n",
            "  29   4  X1  X2  X3\n",
            "  29   5  X1  X2  X3\n",
            "  30   1  X1  X2  X3\n",
            "  30   2  X1  X2  X3\n",
            "  30   3  X1  X2  X3\n",
            "  30   4  X1  X2  X3\n",
            "  30   5  X1  X2  X3\n",
            "  31   1  X1  X2  X3\n",
            "  31   2  X1  X2  X3\n",
            "  31   3  X1  X2  X3\n",
            "  31   4  X1  X2  X3\n",
            "  31   5  X1  X2  X3\n",
            "  32   1  X1  X2  X3\n",
            "  32   2  X1  X2  X3\n",
            "  32   3  X1  X2  X3\n",
            "  32   4  X1  X2  X3\n",
            "  32   5  X1  X2  X3\n",
            "  33   1  X1  X2  X3\n",
            "  33   2  X1  X2  X3\n",
            "  33   3  X1  X2  X3\n",
            "  33   4  X1  X2  X3\n",
            "  33   5  X1  X2  X3\n",
            "  34   1  X1  X2  X3\n",
            "  34   2  X1  X2  X3\n",
            "  34   3  X1  X2  X3\n",
            "  34   4  X1  X2  X3\n",
            "  34   5  X1  X2  X3\n",
            "  35   1  X1  X2  X3\n",
            "  35   2  X1  X2  X3\n",
            "  35   3  X1  X2  X3\n",
            "  35   4  X1  X2  X3\n",
            "  35   5  X1  X2  X3\n",
            "  36   1  X1  X2  X3\n",
            "  36   2  X1  X2  X3\n",
            "  36   3  X1  X2  X3\n",
            "  36   4  X1  X2  X3\n",
            "  36   5  X1  X2  X3\n",
            "  37   1  X1  X2  X3\n",
            "  37   2  X1  X2  X3\n",
            "  37   3  X1  X2  X3\n",
            "  37   4  X1  X2  X3\n",
            "  37   5  X1  X2  X3\n",
            "  38   1  X1  X2  X3\n",
            "  38   2  X1  X2  X3\n",
            "  38   3  X1  X2  X3\n",
            "  38   4  X1  X2  X3\n",
            "  38   5  X1  X2  X3\n",
            "  39   1  X1  X2  X3\n",
            "  39   2  X1  X2  X3\n",
            "  39   3  X1  X2  X3\n",
            "  39   4  X1  X2  X3\n",
            "  39   5  X1  X2  X3\n",
            "  40   1  X1  X2  X3\n",
            "  40   2  X1  X2  X3\n",
            "  40   3  X1  X2  X3\n",
            "  40   4  X1  X2  X3\n",
            "  40   5  X1  X2  X3\n",
            "  41   1  X1  X2  X3\n",
            "  41   2  X1  X2  X3\n",
            "  41   3  X1  X2  X3\n",
            "  41   4  X1  X2  X3\n",
            "  41   5  X1  X2  X3\n",
            "  42   1  X1  X2  X3\n",
            "  42   2  X1  X2  X3\n",
            "  42   3  X1  X2  X3\n",
            "  42   4  X1  X2  X3\n",
            "  42   5  X1  X2  X3\n",
            "  43   1  X1  X2  X3\n",
            "  43   2  X1  X2  X3\n",
            "  43   3  X1  X2  X3\n",
            "  43   4  X1  X2  X3\n",
            "  43   5  X1  X2  X3\n",
            "  44   1  X1  X2  X3\n",
            "  44   2  X1  X2  X3\n",
            "  44   3  X1  X2  X3\n",
            "  44   4  X1  X2  X3\n",
            "  44   5  X1  X2  X3\n",
            "  45   1  X1  X2  X3\n",
            "  45   2  X1  X2  X3\n",
            "  45   3  X1  X2  X3\n",
            "  45   4  X1  X2  X3\n",
            "  45   5  X1  X2  X3\n",
            "  46   1  X1  X2  X3\n",
            "  46   2  X1  X2  X3\n",
            "  46   3  X1  X2  X3\n",
            "  46   4  X1  X2  X3\n",
            "  46   5  X1  X2  X3\n",
            "  47   1  X1  X2  X3\n",
            "  47   2  X1  X2  X3\n",
            "  47   3  X1  X2  X3\n",
            "  47   4  X1  X2  X3\n",
            "  47   5  X1  X2  X3\n",
            "  48   1  X1  X2  X3\n",
            "  48   2  X1  X2  X3\n",
            "  48   3  X1  X2  X3\n",
            "  48   4  X1  X2  X3\n",
            "  48   5  X1  X2  X3\n",
            "  49   1  X1  X2  X3\n",
            "  49   2  X1  X2  X3\n",
            "  49   3  X1  X2  X3\n",
            "  49   4  X1  X2  X3\n",
            "  49   5  X1  X2  X3\n",
            "  50   1  X1  X2  X3\n",
            "  50   2  X1  X2  X3\n",
            "  50   3  X1  X2  X3\n",
            "  50   4  X1  X2  X3\n",
            "  50   5  X1  X2  X3\n",
            "[1] \"Imputation multiple avec 'mice' :\"\n",
            "         X1       X2       X3\n",
            "1  4.439524 4.224082 6.932176\n",
            "2  4.769823 3.359814 7.782025\n",
            "3  6.558708 3.400771 6.973996\n",
            "4  5.070508 3.110683 7.271109\n",
            "5  5.129288 2.444159 7.374961\n",
            "6  6.715065 4.786913 6.313307\n",
            "7  5.460916 3.497850 8.837787\n",
            "8  3.734939 1.033383 8.153373\n",
            "9  4.313147 3.701356 6.861863\n",
            "10 4.554338 2.527209 9.253815\n",
            "11 5.460916 3.701356 7.782025\n",
            "12 5.460916 2.444159 8.153373\n",
            "13 3.734939 4.224082 6.313307\n",
            "14 5.129288 3.359814 6.973996\n",
            "15 5.070508 3.701356 6.932176\n"
          ]
        }
      ]
    },
    {
      "cell_type": "code",
      "source": [
        "# 4. PCA avec Valeurs Manquantes (missMDA)\n",
        "nb_comp <- estim_ncpPCA(data[,1:3], ncp.max = 5)\n",
        "pca_result <- imputePCA(data[,1:3], ncp = nb_comp$ncp)\n",
        "print(\"Données après PCA avec imputation :\")\n",
        "print(pca_result$completeObs)"
      ],
      "metadata": {
        "colab": {
          "base_uri": "https://localhost:8080/",
          "height": 0
        },
        "id": "ibWEKTWq-m9U",
        "outputId": "ec64889e-23a7-4ad7-c90e-a72d605d047f"
      },
      "id": "ibWEKTWq-m9U",
      "execution_count": 26,
      "outputs": [
        {
          "output_type": "stream",
          "name": "stdout",
          "text": [
            "[1] \"Données après PCA avec imputation :\"\n",
            "            X1       X2       X3\n",
            " [1,] 4.439524 4.224082 6.932176\n",
            " [2,] 4.769823 3.359814 7.782025\n",
            " [3,] 6.558708 3.400771 6.973996\n",
            " [4,] 5.070508 3.110683 7.271109\n",
            " [5,] 5.129288 2.444159 7.374961\n",
            " [6,] 6.715065 4.786913 6.313307\n",
            " [7,] 5.460916 3.497850 8.837787\n",
            " [8,] 3.734939 1.033383 8.153373\n",
            " [9,] 4.313147 3.701356 6.861863\n",
            "[10,] 4.554338 2.527209 9.253815\n",
            "[11,] 5.074626 3.208622 7.575441\n",
            "[12,] 5.074626 3.208622 7.575441\n",
            "[13,] 5.074626 3.208622 7.575441\n",
            "[14,] 5.074626 3.208622 7.575441\n",
            "[15,] 5.074626 3.208622 7.575441\n"
          ]
        }
      ]
    },
    {
      "cell_type": "code",
      "source": [
        "\n",
        "# 5. Imputation par 'missForest'\n",
        "data_imputed_mf <- missForest(data[,1:3])$ximp\n",
        "print(\"Données après imputation avec missForest :\")\n",
        "print(data_imputed_mf)\n",
        "\n"
      ],
      "metadata": {
        "colab": {
          "base_uri": "https://localhost:8080/",
          "height": 0
        },
        "collapsed": true,
        "id": "ix8ZmwMY8Ivv",
        "outputId": "475f5487-4fa0-476c-e4b6-2311b9538d8c"
      },
      "id": "ix8ZmwMY8Ivv",
      "execution_count": 27,
      "outputs": [
        {
          "output_type": "stream",
          "name": "stdout",
          "text": [
            "[1] \"Données après imputation avec missForest :\"\n",
            "         X1       X2       X3\n",
            "1  4.439524 4.224082 6.932176\n",
            "2  4.769823 3.359814 7.782025\n",
            "3  6.558708 3.400771 6.973996\n",
            "4  5.070508 3.110683 7.271109\n",
            "5  5.129288 2.444159 7.374961\n",
            "6  6.715065 4.786913 6.313307\n",
            "7  5.460916 3.497850 8.837787\n",
            "8  3.734939 1.033383 8.153373\n",
            "9  4.313147 3.701356 6.861863\n",
            "10 4.554338 2.527209 9.253815\n",
            "11 4.993705 2.857675 7.549812\n",
            "12 4.993705 2.857675 7.549812\n",
            "13 4.993705 2.857675 7.549812\n",
            "14 4.993705 2.857675 7.549812\n",
            "15 4.993705 2.857675 7.549812\n"
          ]
        }
      ]
    },
    {
      "cell_type": "markdown",
      "source": [
        " SECTION 2: IMPUTATIONS AVANCÉES\n"
      ],
      "metadata": {
        "id": "Bs64gfGD-tdM"
      },
      "id": "Bs64gfGD-tdM"
    },
    {
      "cell_type": "code",
      "source": [
        "\n",
        "# 1. Imputation KNN\n",
        "data_knn <- kNN(data[,1:3], k = 3)\n",
        "print(\"Imputation KNN :\")\n",
        "print(data_knn)"
      ],
      "metadata": {
        "id": "aWxXOLX1-uP5",
        "colab": {
          "base_uri": "https://localhost:8080/",
          "height": 0
        },
        "outputId": "da9407cb-6402-4e1b-959e-5dee6e7f7e59"
      },
      "id": "aWxXOLX1-uP5",
      "execution_count": 28,
      "outputs": [
        {
          "output_type": "stream",
          "name": "stdout",
          "text": [
            "[1] \"Imputation KNN :\"\n",
            "         X1       X2       X3 X1_imp X2_imp X3_imp\n",
            "1  4.439524 4.224082 6.932176  FALSE  FALSE  FALSE\n",
            "2  4.769823 3.359814 7.782025  FALSE  FALSE  FALSE\n",
            "3  6.558708 3.400771 6.973996  FALSE  FALSE  FALSE\n",
            "4  5.070508 3.110683 7.271109  FALSE  FALSE  FALSE\n",
            "5  5.129288 2.444159 7.374961  FALSE  FALSE  FALSE\n",
            "6  6.715065 4.786913 6.313307  FALSE  FALSE  FALSE\n",
            "7  5.460916 3.497850 8.837787  FALSE  FALSE  FALSE\n",
            "8  3.734939 1.033383 8.153373  FALSE  FALSE  FALSE\n",
            "9  4.313147 3.701356 6.861863  FALSE  FALSE  FALSE\n",
            "10 4.554338 2.527209 9.253815  FALSE  FALSE  FALSE\n",
            "11 4.769823 3.359814 7.271109   TRUE   TRUE   TRUE\n",
            "12 4.769823 3.359814 7.271109   TRUE   TRUE   TRUE\n",
            "13 4.769823 3.359814 7.271109   TRUE   TRUE   TRUE\n",
            "14 4.769823 3.359814 7.271109   TRUE   TRUE   TRUE\n",
            "15 4.769823 3.359814 7.271109   TRUE   TRUE   TRUE\n"
          ]
        }
      ]
    },
    {
      "cell_type": "code",
      "source": [
        "# 2. Imputation Expectation-Maximization (EM)\n",
        "data_em <- missMDA::imputePCA(data[,1:3], method = \"EM\")\n",
        "print(\"Imputation EM :\")\n",
        "print(data_em$completeObs)\n"
      ],
      "metadata": {
        "id": "Zm5EOJaB-yXN",
        "colab": {
          "base_uri": "https://localhost:8080/",
          "height": 0
        },
        "outputId": "be291f9b-23ff-4410-f221-63f8a29ffba3"
      },
      "id": "Zm5EOJaB-yXN",
      "execution_count": 29,
      "outputs": [
        {
          "output_type": "stream",
          "name": "stdout",
          "text": [
            "[1] \"Imputation EM :\"\n",
            "            X1       X2       X3\n",
            " [1,] 4.439524 4.224082 6.932176\n",
            " [2,] 4.769823 3.359814 7.782025\n",
            " [3,] 6.558708 3.400771 6.973996\n",
            " [4,] 5.070508 3.110683 7.271109\n",
            " [5,] 5.129288 2.444159 7.374961\n",
            " [6,] 6.715065 4.786913 6.313307\n",
            " [7,] 5.460916 3.497850 8.837787\n",
            " [8,] 3.734939 1.033383 8.153373\n",
            " [9,] 4.313147 3.701356 6.861863\n",
            "[10,] 4.554338 2.527209 9.253815\n",
            "[11,] 5.074626 3.208622 7.575441\n",
            "[12,] 5.074626 3.208622 7.575441\n",
            "[13,] 5.074626 3.208622 7.575441\n",
            "[14,] 5.074626 3.208622 7.575441\n",
            "[15,] 5.074626 3.208622 7.575441\n"
          ]
        }
      ]
    },
    {
      "cell_type": "code",
      "source": [
        "\n",
        "# 3. Imputation pour données qualitatives (MCA)\n",
        "data_qual <- as.data.frame(lapply(data[,1:3], function(x) as.factor(cut(x, breaks=3))))\n",
        "data_qual[is.na(data_qual)] <- NA\n",
        "data_mca <- imputeMCA(data_qual, ncp = 2)\n",
        "print(\"Imputation MCA pour données qualitatives :\")\n",
        "print(data_mca$completeObs)\n"
      ],
      "metadata": {
        "colab": {
          "base_uri": "https://localhost:8080/",
          "height": 0
        },
        "collapsed": true,
        "id": "Yj_teFPZ8Itc",
        "outputId": "86f1d491-45db-4631-9060-3c6d468d8a80"
      },
      "id": "Yj_teFPZ8Itc",
      "execution_count": 30,
      "outputs": [
        {
          "output_type": "stream",
          "name": "stdout",
          "text": [
            "[1] \"Imputation MCA pour données qualitatives :\"\n",
            "            X1          X2          X3\n",
            "1  (3.73,4.73] (3.54,4.79] (6.31,7.29]\n",
            "2  (4.73,5.72] (2.28,3.54] (7.29,8.27]\n",
            "3  (5.72,6.72] (2.28,3.54] (6.31,7.29]\n",
            "4  (4.73,5.72] (2.28,3.54] (6.31,7.29]\n",
            "5  (4.73,5.72] (2.28,3.54] (7.29,8.27]\n",
            "6  (5.72,6.72] (3.54,4.79] (6.31,7.29]\n",
            "7  (4.73,5.72] (2.28,3.54] (8.27,9.26]\n",
            "8  (3.73,4.73] (1.03,2.28] (7.29,8.27]\n",
            "9  (3.73,4.73] (3.54,4.79] (6.31,7.29]\n",
            "10 (3.73,4.73] (2.28,3.54] (8.27,9.26]\n",
            "11 (3.73,4.73] (2.28,3.54] (6.31,7.29]\n",
            "12 (3.73,4.73] (2.28,3.54] (6.31,7.29]\n",
            "13 (3.73,4.73] (2.28,3.54] (6.31,7.29]\n",
            "14 (3.73,4.73] (2.28,3.54] (6.31,7.29]\n",
            "15 (3.73,4.73] (2.28,3.54] (6.31,7.29]\n"
          ]
        }
      ]
    },
    {
      "cell_type": "markdown",
      "source": [
        " SECTION 3: IMPUTATION PAR MODÈLES STATISTIQUES\n"
      ],
      "metadata": {
        "id": "z1-2Xdg9-0B-"
      },
      "id": "z1-2Xdg9-0B-"
    },
    {
      "cell_type": "code",
      "source": [
        "# 1. Imputation par Modèles Mixtes\n",
        "data_complete <- data[!(data$Group %in% c(\"levels_to_exclude\")),]\n",
        "fit_mixed <- lmer(X1 ~ X2 + (1 | Group), data = data_complete, REML = FALSE)\n",
        "data$Group <- factor(data$Group, levels = levels(data_complete$Group))\n",
        "data$X1_imputed <- ifelse(is.na(data$X1), predict(fit_mixed, newdata = data, allow.new.levels = TRUE), data$X1)\n",
        "print(\"Données après imputation par modèle mixte :\")\n",
        "print(data$X1_imputed)"
      ],
      "metadata": {
        "id": "hkLfieNl-0mS",
        "colab": {
          "base_uri": "https://localhost:8080/",
          "height": 0
        },
        "outputId": "6d56f03d-7dd0-47a2-b072-b71d6ad5258e"
      },
      "id": "hkLfieNl-0mS",
      "execution_count": 31,
      "outputs": [
        {
          "output_type": "stream",
          "name": "stderr",
          "text": [
            "boundary (singular) fit: see help('isSingular')\n",
            "\n"
          ]
        },
        {
          "output_type": "stream",
          "name": "stdout",
          "text": [
            "[1] \"Données après imputation par modèle mixte :\"\n",
            " [1] 4.439524 4.769823 6.558708 5.070508 5.129288 6.715065 5.460916 3.734939\n",
            " [9] 4.313147 4.554338       NA       NA       NA       NA       NA\n"
          ]
        }
      ]
    },
    {
      "cell_type": "code",
      "source": [
        "# 2. Imputation par Chaînes de Markov Monte Carlo (MCMC)\n",
        "data$X2 <- as.numeric(as.character(data$X2))\n",
        "data$X3 <- as.numeric(as.character(data$X3))\n",
        "data$X2[is.na(data$X2)] <- mean(data$X2, na.rm = TRUE)\n",
        "data$X3[is.na(data$X3)] <- mean(data$X3, na.rm = TRUE)\n",
        "fit_mcmc <- MCMCglmm(X1 ~ X2 + X3, random = ~Group, data = data, nitt = 13000, burnin = 3000, pr = TRUE)\n",
        "data$X1_imputed_mcmc <- ifelse(is.na(data$X1), predict(fit_mcmc, newdata = data), data$X1)\n",
        "print(\"Données après imputation avec MCMC :\")\n",
        "print(data$X1_imputed_mcmc)"
      ],
      "metadata": {
        "id": "cteeYrzf-3iJ",
        "colab": {
          "base_uri": "https://localhost:8080/",
          "height": 0
        },
        "outputId": "40a1bcbd-1af3-4a8b-e416-717f96256dc4"
      },
      "id": "cteeYrzf-3iJ",
      "execution_count": 32,
      "outputs": [
        {
          "output_type": "stream",
          "name": "stdout",
          "text": [
            "\n",
            "                       MCMC iteration = 0\n",
            "\n",
            "                       MCMC iteration = 1000\n",
            "\n",
            "                       MCMC iteration = 2000\n",
            "\n",
            "                       MCMC iteration = 3000\n",
            "\n",
            "                       MCMC iteration = 4000\n",
            "\n",
            "                       MCMC iteration = 5000\n",
            "\n",
            "                       MCMC iteration = 6000\n",
            "\n",
            "                       MCMC iteration = 7000\n",
            "\n",
            "                       MCMC iteration = 8000\n",
            "\n",
            "                       MCMC iteration = 9000\n",
            "\n",
            "                       MCMC iteration = 10000\n",
            "\n",
            "                       MCMC iteration = 11000\n",
            "\n",
            "                       MCMC iteration = 12000\n",
            "\n",
            "                       MCMC iteration = 13000\n",
            "[1] \"Données après imputation avec MCMC :\"\n",
            " [1] 4.439524 4.769823 6.558708 5.070508 5.129288 6.715065 5.460916 3.734939\n",
            " [9] 4.313147 4.554338 5.066539 5.066539 5.066539 5.066539 5.066539\n"
          ]
        }
      ]
    },
    {
      "cell_type": "code",
      "source": [
        "\n",
        "# 3. Joint Modeling avec Amelia\n",
        "data_joint <- amelia(data, m = 5, idvars = \"Group\")$imputations[[1]]\n",
        "print(\"Imputation avec Joint Modeling (Amelia) :\")\n",
        "print(data_joint)\n",
        "\n"
      ],
      "metadata": {
        "colab": {
          "base_uri": "https://localhost:8080/",
          "height": 0
        },
        "collapsed": true,
        "id": "nR5UHl4P8Iqj",
        "outputId": "2f0f7d3d-c152-43e9-ec05-ded35ec68158"
      },
      "id": "nR5UHl4P8Iqj",
      "execution_count": 33,
      "outputs": [
        {
          "output_type": "stream",
          "name": "stderr",
          "text": [
            "Warning message in amcheck(x = x, m = m, idvars = numopts$idvars, priors = priors, :\n",
            "“The variables (or variable with levels) X1_imputed, X1_imputed_mcmc are perfectly collinear with another variable in the data.\n",
            "”\n",
            "Warning message in amelia_prep(x = x, m = m, idvars = idvars, empri = empri, ts = ts, :\n",
            "“You have a small number of observations, relative to the number, of variables in the imputation model.  Consider removing some variables, or reducing the order of time polynomials to reduce the number of parameters.”\n"
          ]
        },
        {
          "output_type": "stream",
          "name": "stdout",
          "text": [
            "-- Imputation 1 --\n",
            "\n",
            "  1  2  3  4  5  6  7\n",
            "\n",
            "-- Imputation 2 --\n",
            "\n",
            "  1  2  3  4  5  6  7  8  9 10\n",
            "\n",
            "-- Imputation 3 --\n",
            "\n",
            "  1  2  3  4  5  6  7\n",
            "\n",
            "-- Imputation 4 --\n",
            "\n",
            "  1  2  3  4  5  6  7  8\n",
            "\n",
            "-- Imputation 5 --\n",
            "\n",
            "  1  2  3  4  5  6  7\n",
            "\n",
            "[1] \"Imputation avec Joint Modeling (Amelia) :\"\n",
            "         X1       X2       X3 Group X1_imputed X1_imputed_mcmc\n",
            "1  4.439524 4.224082 6.932176     1   4.439524        4.439524\n",
            "2  4.769823 3.359814 7.782025     1   4.769823        4.769823\n",
            "3  6.558708 3.400771 6.973996     1   6.558708        6.558708\n",
            "4  5.070508 3.110683 7.271109     1   5.070508        5.070508\n",
            "5  5.129288 2.444159 7.374961     1   5.129288        5.129288\n",
            "6  6.715065 4.786913 6.313307     2   6.715065        6.715065\n",
            "7  5.460916 3.497850 8.837787     2   5.460916        5.460916\n",
            "8  3.734939 1.033383 8.153373     2   3.734939        3.734939\n",
            "9  4.313147 3.701356 6.861863     2   4.313147        4.313147\n",
            "10 4.554338 2.527209 9.253815     2   4.554338        4.554338\n",
            "11 5.067279 3.208622 7.575441     3   5.067763        5.066539\n",
            "12 5.067142 3.208622 7.575441     3   5.066800        5.066539\n",
            "13 5.070663 3.208622 7.575441     3   5.068018        5.066539\n",
            "14 5.072480 3.208622 7.575441     3   5.065280        5.066539\n",
            "15 5.065396 3.208622 7.575441     3   5.065064        5.066539\n"
          ]
        }
      ]
    },
    {
      "cell_type": "markdown",
      "source": [
        " SECTION 4: VALIDATION DE L'IMPUTATION\n"
      ],
      "metadata": {
        "id": "gBJiYctP-8im"
      },
      "id": "gBJiYctP-8im"
    },
    {
      "cell_type": "code",
      "source": [
        "\n",
        "# Calcul de la RMSE pour évaluer la qualité de chaque méthode\n",
        "rmse <- function(true, predicted) {\n",
        "  sqrt(mean((true - predicted)^2, na.rm = TRUE))\n",
        "}\n",
        "rmse_mixed <- rmse(data$X1, data$X1_imputed)\n",
        "rmse_mcmc <- rmse(data$X1, data$X1_imputed_mcmc)\n",
        "rmse_lasso <- rmse(data$X1, data$X1_imputed_lasso)\n",
        "print(paste(\"RMSE Modèle Mixte:\", rmse_mixed))\n",
        "print(paste(\"RMSE MCMC:\", rmse_mcmc))\n",
        "print(paste(\"RMSE LASSO:\", rmse_lasso))\n"
      ],
      "metadata": {
        "colab": {
          "base_uri": "https://localhost:8080/",
          "height": 0
        },
        "id": "7nlf671F8Ilz",
        "outputId": "1c46be7f-a42a-41cd-c872-59278f64d243"
      },
      "id": "7nlf671F8Ilz",
      "execution_count": 34,
      "outputs": [
        {
          "output_type": "stream",
          "name": "stdout",
          "text": [
            "[1] \"RMSE Modèle Mixte: 0\"\n",
            "[1] \"RMSE MCMC: 0\"\n",
            "[1] \"RMSE LASSO: NaN\"\n"
          ]
        }
      ]
    },
    {
      "cell_type": "markdown",
      "source": [
        " SECTION 5: VISUALISATION DES DONNÉES IMPUTÉES\n"
      ],
      "metadata": {
        "id": "vGFDTk5h_ApM"
      },
      "id": "vGFDTk5h_ApM"
    },
    {
      "cell_type": "code",
      "source": [
        "\n",
        " data_long <- rbind(\n",
        "   data.frame(type = \"Original\", data[,1:3]),\n",
        "   data.frame(type = \"Moyenne\", data_imputed_mean[,1:3]),\n",
        "   data.frame(type = \"Médiane\", data_imputed_median[,1:3]),\n",
        "   data.frame(type = \"MICE\", data_imputed_mice_complete),\n",
        "   data.frame(type = \"PCA\", pca_result$completeObs),\n",
        "   data.frame(type = \"MissForest\", data_imputed_mf)\n",
        " )\n",
        " plot_list <- list()\n",
        " for (col in names(data[,1:3])) {\n",
        "   p <- ggplot(data_long, aes_string(x = 'type', y = col)) +\n",
        "     geom_boxplot() + labs(title = paste(\"Imputation de\", col))\n",
        "   plot_list[[col]] <- p\n",
        " }\n",
        " do.call(grid.arrange, plot_list)\n"
      ],
      "metadata": {
        "id": "XUdhed5R-Nv-",
        "colab": {
          "base_uri": "https://localhost:8080/",
          "height": 559
        },
        "outputId": "c0dcff07-52df-4224-96b5-8f78959f5a20"
      },
      "id": "XUdhed5R-Nv-",
      "execution_count": 35,
      "outputs": [
        {
          "output_type": "stream",
          "name": "stderr",
          "text": [
            "Warning message:\n",
            "“\u001b[1m\u001b[22m`aes_string()` was deprecated in ggplot2 3.0.0.\n",
            "\u001b[36mℹ\u001b[39m Please use tidy evaluation idioms with `aes()`.\n",
            "\u001b[36mℹ\u001b[39m See also `vignette(\"ggplot2-in-packages\")` for more information.”\n",
            "Warning message:\n",
            "“\u001b[1m\u001b[22mRemoved 5 rows containing non-finite outside the scale range\n",
            "(`stat_boxplot()`).”\n"
          ]
        },
        {
          "output_type": "display_data",
          "data": {
            "text/plain": [
              "plot without title"
            ],
            "image/png": "[encoded data removed]"
          },
          "metadata": {
            "image/png": {
              "width": 420,
              "height": 420
            }
          }
        }
      ]
    },
    {
      "cell_type": "markdown",
      "source": [
        "SECTION 6: ANALYSE DES VALEURS MANQUANTES\n"
      ],
      "metadata": {
        "id": "d7Kl4qW5_EiA"
      },
      "id": "d7Kl4qW5_EiA"
    },
    {
      "cell_type": "code",
      "source": [
        "# Visualisation des patrons de valeurs manquantes\n",
        "print(\"Heatmap des valeurs manquantes :\")\n",
        "vis_miss(data[, 1:3])\n",
        "\n",
        "# Visualisation avec VIM (Matrix plot)\n",
        "print(\"Matrix plot des valeurs manquantes :\")\n",
        "aggr(data[, 1:3], col = c(\"navyblue\", \"red\"), numbers = TRUE, sortVars = TRUE,\n",
        "     labels = names(data[, 1:3]), cex.axis = 0.7, gap = 3, ylab = c(\"Valeurs manquantes\", \"Pattern\"))\n",
        "\n",
        "# Cartographie des valeurs manquantes par paires de variables\n",
        "if (sum(colSums(is.na(data[, 1:3])) > 0) > 1) {  # Vérifie que plus d'une variable contient des données manquantes\n",
        "    print(\"Visualisation par paires de variables :\")\n",
        "    gg_miss_upset(data[, 1:3])\n",
        "} else {\n",
        "    print(\"Pas assez de variables avec des données manquantes pour créer un upset plot.\")\n",
        "}"
      ],
      "metadata": {
        "colab": {
          "base_uri": "https://localhost:8080/",
          "height": 1013
        },
        "id": "tD1SShFqDttD",
        "outputId": "fc1ee899-7cc6-47e3-d211-d6562c3ecf94"
      },
      "id": "tD1SShFqDttD",
      "execution_count": 41,
      "outputs": [
        {
          "output_type": "stream",
          "name": "stdout",
          "text": [
            "[1] \"Heatmap des valeurs manquantes :\"\n",
            "[1] \"Matrix plot des valeurs manquantes :\"\n"
          ]
        },
        {
          "output_type": "display_data",
          "data": {
            "text/plain": [
              "plot without title"
            ],
            "image/png": "[encoded data removed]"
          },
          "metadata": {
            "image/png": {
              "width": 420,
              "height": 420
            }
          }
        },
        {
          "output_type": "stream",
          "name": "stdout",
          "text": [
            "\n",
            " Variables sorted by number of missings: \n",
            " Variable     Count\n",
            "       X1 0.3333333\n",
            "       X2 0.0000000\n",
            "       X3 0.0000000\n",
            "[1] \"Pas assez de variables avec des données manquantes pour créer un upset plot.\"\n"
          ]
        },
        {
          "output_type": "display_data",
          "data": {
            "text/plain": [
              "plot without title"
            ],
            "image/png": "[encoded data removed]"
          },
          "metadata": {
            "image/png": {
              "width": 420,
              "height": 420
            }
          }
        }
      ]
    },
    {
      "cell_type": "code",
      "source": [
        "\n",
        "\n",
        "# 2. Détection des mécanismes de valeurs manquantes\n",
        "\n",
        "# a) Test MCAR de Little avec mice\n",
        "# Installer et charger naniar si nécessaire\n",
        "if (!require(\"naniar\")) {\n",
        "  install.packages(\"naniar\", dependencies = TRUE)\n",
        "  library(naniar)\n",
        "}\n",
        "\n",
        "# Utiliser mcar_test de naniar\n",
        "mcar_test_result <- naniar::mcar_test(data[, 1:3])\n",
        "print(\"Test de Little pour MCAR :\")\n",
        "print(mcar_test_result)\n",
        "\n",
        "\n",
        "# b) Patron des valeurs manquantes avec md.pattern\n",
        "print(\"Patron des valeurs manquantes :\")\n",
        "pattern <- md.pattern(data[, 1:3])\n",
        "print(pattern)\n",
        "\n",
        "# c) Analyse de la distribution des valeurs manquantes\n",
        "print(\"Cartographie des valeurs manquantes par densité :\")\n",
        "ggplot(data, aes(x = X1, y = X2)) +\n",
        "  geom_miss_point() +\n",
        "  facet_wrap(~ Group) +\n",
        "  labs(title = \"Cartographie des valeurs manquantes par densité\")\n",
        "\n"
      ],
      "metadata": {
        "id": "SxQ8dnLf8IkV",
        "colab": {
          "base_uri": "https://localhost:8080/",
          "height": 1048
        },
        "outputId": "212f409a-4818-4ac5-a23a-58061acc875f"
      },
      "id": "SxQ8dnLf8IkV",
      "execution_count": 38,
      "outputs": [
        {
          "output_type": "stream",
          "name": "stdout",
          "text": [
            "[1] \"Test de Little pour MCAR :\"\n",
            "\u001b[90m# A tibble: 1 × 4\u001b[39m\n",
            "  statistic    df p.value missing.patterns\n",
            "      \u001b[3m\u001b[90m<dbl>\u001b[39m\u001b[23m \u001b[3m\u001b[90m<dbl>\u001b[39m\u001b[23m   \u001b[3m\u001b[90m<dbl>\u001b[39m\u001b[23m            \u001b[3m\u001b[90m<int>\u001b[39m\u001b[23m\n",
            "\u001b[90m1\u001b[39m         0     2       1                2\n",
            "[1] \"Patron des valeurs manquantes :\"\n",
            "   X2 X3 X1  \n",
            "10  1  1  1 0\n",
            "5   1  1  0 1\n",
            "    0  0  5 5\n",
            "[1] \"Cartographie des valeurs manquantes par densité :\"\n"
          ]
        },
        {
          "output_type": "display_data",
          "data": {
            "text/plain": [
              "plot without title"
            ],
            "image/png": "[encoded data removed]"
          },
          "metadata": {
            "image/png": {
              "width": 420,
              "height": 420
            }
          }
        },
        {
          "output_type": "display_data",
          "data": {
            "text/plain": [
              "plot without title"
            ],
            "image/png": "[encoded data removed]"
          },
          "metadata": {
            "image/png": {
              "width": 420,
              "height": 420
            }
          }
        }
      ]
    },
    {
      "cell_type": "markdown",
      "source": [
        "## donne reel\n",
        " Dans cette cellule, jles ai testé avec des données réelles.\n"
      ],
      "metadata": {
        "id": "SGip7XLUBezE"
      },
      "id": "SGip7XLUBezE"
    },
    {
      "cell_type": "code",
      "source": [
        "# Charger les jeux de données en R\n",
        "data(\"airquality\")\n",
        "data <- airquality\n",
        "print(\"Jeu de données airquality avec valeurs manquantes :\")\n",
        "print(head(data))"
      ],
      "metadata": {
        "colab": {
          "base_uri": "https://localhost:8080/",
          "height": 0
        },
        "id": "TaD-l_P0Bi7R",
        "outputId": "a1f30b15-c1c1-43d9-9269-af14c087a2a7"
      },
      "id": "TaD-l_P0Bi7R",
      "execution_count": 42,
      "outputs": [
        {
          "output_type": "stream",
          "name": "stdout",
          "text": [
            "[1] \"Jeu de données airquality avec valeurs manquantes :\"\n",
            "  Ozone Solar.R Wind Temp Month Day\n",
            "1    41     190  7.4   67     5   1\n",
            "2    36     118  8.0   72     5   2\n",
            "3    12     149 12.6   74     5   3\n",
            "4    18     313 11.5   62     5   4\n",
            "5    NA      NA 14.3   56     5   5\n",
            "6    28      NA 14.9   66     5   6\n"
          ]
        }
      ]
    },
    {
      "cell_type": "markdown",
      "source": [
        "SECTION 1: IMPUTATION SIMPLE ET MULTIPLE\n"
      ],
      "metadata": {
        "id": "CyXKSxvzBmKd"
      },
      "id": "CyXKSxvzBmKd"
    },
    {
      "cell_type": "code",
      "source": [
        "# 1. Imputation Simple (Moyenne)\n",
        "data_imputed_mean <- data\n",
        "for(i in 1:ncol(data_imputed_mean)) {  # Sur toutes les colonnes\n",
        "  data_imputed_mean[is.na(data_imputed_mean[, i]), i] <- mean(data_imputed_mean[, i], na.rm = TRUE)\n",
        "}\n",
        "print(\"Imputation par la moyenne :\")\n",
        "print(head(data_imputed_mean))"
      ],
      "metadata": {
        "colab": {
          "base_uri": "https://localhost:8080/",
          "height": 0
        },
        "id": "_tAx---0CWlS",
        "outputId": "df1e2c8f-db17-4d5b-e593-fd6b97b2e413"
      },
      "id": "_tAx---0CWlS",
      "execution_count": 43,
      "outputs": [
        {
          "output_type": "stream",
          "name": "stdout",
          "text": [
            "[1] \"Imputation par la moyenne :\"\n",
            "     Ozone  Solar.R Wind Temp Month Day\n",
            "1 41.00000 190.0000  7.4   67     5   1\n",
            "2 36.00000 118.0000  8.0   72     5   2\n",
            "3 12.00000 149.0000 12.6   74     5   3\n",
            "4 18.00000 313.0000 11.5   62     5   4\n",
            "5 42.12931 185.9315 14.3   56     5   5\n",
            "6 28.00000 185.9315 14.9   66     5   6\n"
          ]
        }
      ]
    },
    {
      "cell_type": "code",
      "source": [
        "# 2. Imputation Simple (Médiane)\n",
        "data_imputed_median <- data\n",
        "for(i in 1:ncol(data_imputed_median)) {\n",
        "  data_imputed_median[is.na(data_imputed_median[, i]), i] <- median(data_imputed_median[, i], na.rm = TRUE)\n",
        "}\n",
        "print(\"Imputation par la médiane :\")\n",
        "print(head(data_imputed_median))"
      ],
      "metadata": {
        "colab": {
          "base_uri": "https://localhost:8080/",
          "height": 0
        },
        "id": "mvmELC28CYw-",
        "outputId": "687e7b62-996c-4d48-c435-2345f964c6fa"
      },
      "id": "mvmELC28CYw-",
      "execution_count": 44,
      "outputs": [
        {
          "output_type": "stream",
          "name": "stdout",
          "text": [
            "[1] \"Imputation par la médiane :\"\n",
            "  Ozone Solar.R Wind Temp Month Day\n",
            "1  41.0     190  7.4   67     5   1\n",
            "2  36.0     118  8.0   72     5   2\n",
            "3  12.0     149 12.6   74     5   3\n",
            "4  18.0     313 11.5   62     5   4\n",
            "5  31.5     205 14.3   56     5   5\n",
            "6  28.0     205 14.9   66     5   6\n"
          ]
        }
      ]
    },
    {
      "cell_type": "code",
      "source": [
        "# 3. Imputation Multiple avec 'mice'\n",
        "\n",
        "# Imputation multiple avec mice\n",
        "data_imputed_mice <- mice(data, m = 5, maxit = 50, method = 'pmm', seed = 500)\n",
        "\n",
        "# Obtenir le premier jeu de données imputé complet\n",
        "data_imputed_mice_complete <- mice::complete(data_imputed_mice, 1)\n",
        "print(\"Imputation multiple avec 'mice' :\")\n",
        "print(head(data_imputed_mice_complete))\n"
      ],
      "metadata": {
        "colab": {
          "base_uri": "https://localhost:8080/",
          "height": 0
        },
        "id": "apQV1yNbCakW",
        "outputId": "3d4c7dda-2256-4e71-90d2-6f8bf0327fbe"
      },
      "id": "apQV1yNbCakW",
      "execution_count": 45,
      "outputs": [
        {
          "output_type": "stream",
          "name": "stdout",
          "text": [
            "\n",
            " iter imp variable\n",
            "  1   1  Ozone  Solar.R\n",
            "  1   2  Ozone  Solar.R\n",
            "  1   3  Ozone  Solar.R\n",
            "  1   4  Ozone  Solar.R\n",
            "  1   5  Ozone  Solar.R\n",
            "  2   1  Ozone  Solar.R\n",
            "  2   2  Ozone  Solar.R\n",
            "  2   3  Ozone  Solar.R\n",
            "  2   4  Ozone  Solar.R\n",
            "  2   5  Ozone  Solar.R\n",
            "  3   1  Ozone  Solar.R\n",
            "  3   2  Ozone  Solar.R\n",
            "  3   3  Ozone  Solar.R\n",
            "  3   4  Ozone  Solar.R\n",
            "  3   5  Ozone  Solar.R\n",
            "  4   1  Ozone  Solar.R\n",
            "  4   2  Ozone  Solar.R\n",
            "  4   3  Ozone  Solar.R\n",
            "  4   4  Ozone  Solar.R\n",
            "  4   5  Ozone  Solar.R\n",
            "  5   1  Ozone  Solar.R\n",
            "  5   2  Ozone  Solar.R\n",
            "  5   3  Ozone  Solar.R\n",
            "  5   4  Ozone  Solar.R\n",
            "  5   5  Ozone  Solar.R\n",
            "  6   1  Ozone  Solar.R\n",
            "  6   2  Ozone  Solar.R\n",
            "  6   3  Ozone  Solar.R\n",
            "  6   4  Ozone  Solar.R\n",
            "  6   5  Ozone  Solar.R\n",
            "  7   1  Ozone  Solar.R\n",
            "  7   2  Ozone  Solar.R\n",
            "  7   3  Ozone  Solar.R\n",
            "  7   4  Ozone  Solar.R\n",
            "  7   5  Ozone  Solar.R\n",
            "  8   1  Ozone  Solar.R\n",
            "  8   2  Ozone  Solar.R\n",
            "  8   3  Ozone  Solar.R\n",
            "  8   4  Ozone  Solar.R\n",
            "  8   5  Ozone  Solar.R\n",
            "  9   1  Ozone  Solar.R\n",
            "  9   2  Ozone  Solar.R\n",
            "  9   3  Ozone  Solar.R\n",
            "  9   4  Ozone  Solar.R\n",
            "  9   5  Ozone  Solar.R\n",
            "  10   1  Ozone  Solar.R\n",
            "  10   2  Ozone  Solar.R\n",
            "  10   3  Ozone  Solar.R\n",
            "  10   4  Ozone  Solar.R\n",
            "  10   5  Ozone  Solar.R\n",
            "  11   1  Ozone  Solar.R\n",
            "  11   2  Ozone  Solar.R\n",
            "  11   3  Ozone  Solar.R\n",
            "  11   4  Ozone  Solar.R\n",
            "  11   5  Ozone  Solar.R\n",
            "  12   1  Ozone  Solar.R\n",
            "  12   2  Ozone  Solar.R\n",
            "  12   3  Ozone  Solar.R\n",
            "  12   4  Ozone  Solar.R\n",
            "  12   5  Ozone  Solar.R\n",
            "  13   1  Ozone  Solar.R\n",
            "  13   2  Ozone  Solar.R\n",
            "  13   3  Ozone  Solar.R\n",
            "  13   4  Ozone  Solar.R\n",
            "  13   5  Ozone  Solar.R\n",
            "  14   1  Ozone  Solar.R\n",
            "  14   2  Ozone  Solar.R\n",
            "  14   3  Ozone  Solar.R\n",
            "  14   4  Ozone  Solar.R\n",
            "  14   5  Ozone  Solar.R\n",
            "  15   1  Ozone  Solar.R\n",
            "  15   2  Ozone  Solar.R\n",
            "  15   3  Ozone  Solar.R\n",
            "  15   4  Ozone  Solar.R\n",
            "  15   5  Ozone  Solar.R\n",
            "  16   1  Ozone  Solar.R\n",
            "  16   2  Ozone  Solar.R\n",
            "  16   3  Ozone  Solar.R\n",
            "  16   4  Ozone  Solar.R\n",
            "  16   5  Ozone  Solar.R\n",
            "  17   1  Ozone  Solar.R\n",
            "  17   2  Ozone  Solar.R\n",
            "  17   3  Ozone  Solar.R\n",
            "  17   4  Ozone  Solar.R\n",
            "  17   5  Ozone  Solar.R\n",
            "  18   1  Ozone  Solar.R\n",
            "  18   2  Ozone  Solar.R\n",
            "  18   3  Ozone  Solar.R\n",
            "  18   4  Ozone  Solar.R\n",
            "  18   5  Ozone  Solar.R\n",
            "  19   1  Ozone  Solar.R\n",
            "  19   2  Ozone  Solar.R\n",
            "  19   3  Ozone  Solar.R\n",
            "  19   4  Ozone  Solar.R\n",
            "  19   5  Ozone  Solar.R\n",
            "  20   1  Ozone  Solar.R\n",
            "  20   2  Ozone  Solar.R\n",
            "  20   3  Ozone  Solar.R\n",
            "  20   4  Ozone  Solar.R\n",
            "  20   5  Ozone  Solar.R\n",
            "  21   1  Ozone  Solar.R\n",
            "  21   2  Ozone  Solar.R\n",
            "  21   3  Ozone  Solar.R\n",
            "  21   4  Ozone  Solar.R\n",
            "  21   5  Ozone  Solar.R\n",
            "  22   1  Ozone  Solar.R\n",
            "  22   2  Ozone  Solar.R\n",
            "  22   3  Ozone  Solar.R\n",
            "  22   4  Ozone  Solar.R\n",
            "  22   5  Ozone  Solar.R\n",
            "  23   1  Ozone  Solar.R\n",
            "  23   2  Ozone  Solar.R\n",
            "  23   3  Ozone  Solar.R\n",
            "  23   4  Ozone  Solar.R\n",
            "  23   5  Ozone  Solar.R\n",
            "  24   1  Ozone  Solar.R\n",
            "  24   2  Ozone  Solar.R\n",
            "  24   3  Ozone  Solar.R\n",
            "  24   4  Ozone  Solar.R\n",
            "  24   5  Ozone  Solar.R\n",
            "  25   1  Ozone  Solar.R\n",
            "  25   2  Ozone  Solar.R\n",
            "  25   3  Ozone  Solar.R\n",
            "  25   4  Ozone  Solar.R\n",
            "  25   5  Ozone  Solar.R\n",
            "  26   1  Ozone  Solar.R\n",
            "  26   2  Ozone  Solar.R\n",
            "  26   3  Ozone  Solar.R\n",
            "  26   4  Ozone  Solar.R\n",
            "  26   5  Ozone  Solar.R\n",
            "  27   1  Ozone  Solar.R\n",
            "  27   2  Ozone  Solar.R\n",
            "  27   3  Ozone  Solar.R\n",
            "  27   4  Ozone  Solar.R\n",
            "  27   5  Ozone  Solar.R\n",
            "  28   1  Ozone  Solar.R\n",
            "  28   2  Ozone  Solar.R\n",
            "  28   3  Ozone  Solar.R\n",
            "  28   4  Ozone  Solar.R\n",
            "  28   5  Ozone  Solar.R\n",
            "  29   1  Ozone  Solar.R\n",
            "  29   2  Ozone  Solar.R\n",
            "  29   3  Ozone  Solar.R\n",
            "  29   4  Ozone  Solar.R\n",
            "  29   5  Ozone  Solar.R\n",
            "  30   1  Ozone  Solar.R\n",
            "  30   2  Ozone  Solar.R\n",
            "  30   3  Ozone  Solar.R\n",
            "  30   4  Ozone  Solar.R\n",
            "  30   5  Ozone  Solar.R\n",
            "  31   1  Ozone  Solar.R\n",
            "  31   2  Ozone  Solar.R\n",
            "  31   3  Ozone  Solar.R\n",
            "  31   4  Ozone  Solar.R\n",
            "  31   5  Ozone  Solar.R\n",
            "  32   1  Ozone  Solar.R\n",
            "  32   2  Ozone  Solar.R\n",
            "  32   3  Ozone  Solar.R\n",
            "  32   4  Ozone  Solar.R\n",
            "  32   5  Ozone  Solar.R\n",
            "  33   1  Ozone  Solar.R\n",
            "  33   2  Ozone  Solar.R\n",
            "  33   3  Ozone  Solar.R\n",
            "  33   4  Ozone  Solar.R\n",
            "  33   5  Ozone  Solar.R\n",
            "  34   1  Ozone  Solar.R\n",
            "  34   2  Ozone  Solar.R\n",
            "  34   3  Ozone  Solar.R\n",
            "  34   4  Ozone  Solar.R\n",
            "  34   5  Ozone  Solar.R\n",
            "  35   1  Ozone  Solar.R\n",
            "  35   2  Ozone  Solar.R\n",
            "  35   3  Ozone  Solar.R\n",
            "  35   4  Ozone  Solar.R\n",
            "  35   5  Ozone  Solar.R\n",
            "  36   1  Ozone  Solar.R\n",
            "  36   2  Ozone  Solar.R\n",
            "  36   3  Ozone  Solar.R\n",
            "  36   4  Ozone  Solar.R\n",
            "  36   5  Ozone  Solar.R\n",
            "  37   1  Ozone  Solar.R\n",
            "  37   2  Ozone  Solar.R\n",
            "  37   3  Ozone  Solar.R\n",
            "  37   4  Ozone  Solar.R\n",
            "  37   5  Ozone  Solar.R\n",
            "  38   1  Ozone  Solar.R\n",
            "  38   2  Ozone  Solar.R\n",
            "  38   3  Ozone  Solar.R\n",
            "  38   4  Ozone  Solar.R\n",
            "  38   5  Ozone  Solar.R\n",
            "  39   1  Ozone  Solar.R\n",
            "  39   2  Ozone  Solar.R\n",
            "  39   3  Ozone  Solar.R\n",
            "  39   4  Ozone  Solar.R\n",
            "  39   5  Ozone  Solar.R\n",
            "  40   1  Ozone  Solar.R\n",
            "  40   2  Ozone  Solar.R\n",
            "  40   3  Ozone  Solar.R\n",
            "  40   4  Ozone  Solar.R\n",
            "  40   5  Ozone  Solar.R\n",
            "  41   1  Ozone  Solar.R\n",
            "  41   2  Ozone  Solar.R\n",
            "  41   3  Ozone  Solar.R\n",
            "  41   4  Ozone  Solar.R\n",
            "  41   5  Ozone  Solar.R\n",
            "  42   1  Ozone  Solar.R\n",
            "  42   2  Ozone  Solar.R\n",
            "  42   3  Ozone  Solar.R\n",
            "  42   4  Ozone  Solar.R\n",
            "  42   5  Ozone  Solar.R\n",
            "  43   1  Ozone  Solar.R\n",
            "  43   2  Ozone  Solar.R\n",
            "  43   3  Ozone  Solar.R\n",
            "  43   4  Ozone  Solar.R\n",
            "  43   5  Ozone  Solar.R\n",
            "  44   1  Ozone  Solar.R\n",
            "  44   2  Ozone  Solar.R\n",
            "  44   3  Ozone  Solar.R\n",
            "  44   4  Ozone  Solar.R\n",
            "  44   5  Ozone  Solar.R\n",
            "  45   1  Ozone  Solar.R\n",
            "  45   2  Ozone  Solar.R\n",
            "  45   3  Ozone  Solar.R\n",
            "  45   4  Ozone  Solar.R\n",
            "  45   5  Ozone  Solar.R\n",
            "  46   1  Ozone  Solar.R\n",
            "  46   2  Ozone  Solar.R\n",
            "  46   3  Ozone  Solar.R\n",
            "  46   4  Ozone  Solar.R\n",
            "  46   5  Ozone  Solar.R\n",
            "  47   1  Ozone  Solar.R\n",
            "  47   2  Ozone  Solar.R\n",
            "  47   3  Ozone  Solar.R\n",
            "  47   4  Ozone  Solar.R\n",
            "  47   5  Ozone  Solar.R\n",
            "  48   1  Ozone  Solar.R\n",
            "  48   2  Ozone  Solar.R\n",
            "  48   3  Ozone  Solar.R\n",
            "  48   4  Ozone  Solar.R\n",
            "  48   5  Ozone  Solar.R\n",
            "  49   1  Ozone  Solar.R\n",
            "  49   2  Ozone  Solar.R\n",
            "  49   3  Ozone  Solar.R\n",
            "  49   4  Ozone  Solar.R\n",
            "  49   5  Ozone  Solar.R\n",
            "  50   1  Ozone  Solar.R\n",
            "  50   2  Ozone  Solar.R\n",
            "  50   3  Ozone  Solar.R\n",
            "  50   4  Ozone  Solar.R\n",
            "  50   5  Ozone  Solar.R\n",
            "[1] \"Imputation multiple avec 'mice' :\"\n",
            "  Ozone Solar.R Wind Temp Month Day\n",
            "1    41     190  7.4   67     5   1\n",
            "2    36     118  8.0   72     5   2\n",
            "3    12     149 12.6   74     5   3\n",
            "4    18     313 11.5   62     5   4\n",
            "5    14     237 14.3   56     5   5\n",
            "6    28      82 14.9   66     5   6\n"
          ]
        }
      ]
    },
    {
      "cell_type": "code",
      "source": [
        "# 4. PCA avec Valeurs Manquantes (missMDA)\n",
        "nb_comp <- estim_ncpPCA(data, ncp.max = 5)\n",
        "pca_result <- imputePCA(data, ncp = nb_comp$ncp)\n",
        "print(\"Données après PCA avec imputation :\")\n",
        "print(head(pca_result$completeObs))"
      ],
      "metadata": {
        "colab": {
          "base_uri": "https://localhost:8080/",
          "height": 0
        },
        "id": "s1GjFgdNCdRq",
        "outputId": "0eaa6563-ee62-48c6-cb7f-9658ac592a5b"
      },
      "id": "s1GjFgdNCdRq",
      "execution_count": 46,
      "outputs": [
        {
          "output_type": "stream",
          "name": "stdout",
          "text": [
            "[1] \"Données après PCA avec imputation :\"\n",
            "        Ozone  Solar.R Wind Temp Month Day\n",
            "[1,] 41.00000 190.0000  7.4   67     5   1\n",
            "[2,] 36.00000 118.0000  8.0   72     5   2\n",
            "[3,] 12.00000 149.0000 12.6   74     5   3\n",
            "[4,] 18.00000 313.0000 11.5   62     5   4\n",
            "[5,] 42.12931 185.9315 14.3   56     5   5\n",
            "[6,] 28.00000 185.9315 14.9   66     5   6\n"
          ]
        }
      ]
    },
    {
      "cell_type": "code",
      "source": [
        "# 5. Imputation par 'missForest'\n",
        "data_imputed_mf <- missForest(data)$ximp\n",
        "print(\"Données après imputation avec missForest :\")\n",
        "print(head(data_imputed_mf))"
      ],
      "metadata": {
        "colab": {
          "base_uri": "https://localhost:8080/",
          "height": 0
        },
        "id": "H8OF21DrCmtq",
        "outputId": "b0a23f73-5946-4fd9-a388-950a230d1dc5"
      },
      "id": "H8OF21DrCmtq",
      "execution_count": 47,
      "outputs": [
        {
          "output_type": "stream",
          "name": "stdout",
          "text": [
            "[1] \"Données après imputation avec missForest :\"\n",
            "     Ozone  Solar.R Wind Temp Month Day\n",
            "1 41.00000 190.0000  7.4   67     5   1\n",
            "2 36.00000 118.0000  8.0   72     5   2\n",
            "3 12.00000 149.0000 12.6   74     5   3\n",
            "4 18.00000 313.0000 11.5   62     5   4\n",
            "5 18.20667 147.2600 14.3   56     5   5\n",
            "6 28.00000 261.1633 14.9   66     5   6\n"
          ]
        }
      ]
    },
    {
      "cell_type": "markdown",
      "source": [
        "SECTION 2: IMPUTATIONS AVANCÉES"
      ],
      "metadata": {
        "id": "uOt5tvzRCk06"
      },
      "id": "uOt5tvzRCk06"
    },
    {
      "cell_type": "code",
      "source": [
        "# 1. Imputation KNN\n",
        "data_knn <- kNN(data, k = 3)\n",
        "print(\"Imputation KNN :\")\n",
        "print(head(data_knn))"
      ],
      "metadata": {
        "colab": {
          "base_uri": "https://localhost:8080/",
          "height": 0
        },
        "id": "aEAX0CGXCuvw",
        "outputId": "56de73cc-1a43-48c3-8d4d-11c9286b9a67"
      },
      "id": "aEAX0CGXCuvw",
      "execution_count": 48,
      "outputs": [
        {
          "output_type": "stream",
          "name": "stdout",
          "text": [
            "[1] \"Imputation KNN :\"\n",
            "  Ozone Solar.R Wind Temp Month Day Ozone_imp Solar.R_imp Wind_imp Temp_imp\n",
            "1    41     190  7.4   67     5   1     FALSE       FALSE    FALSE    FALSE\n",
            "2    36     118  8.0   72     5   2     FALSE       FALSE    FALSE    FALSE\n",
            "3    12     149 12.6   74     5   3     FALSE       FALSE    FALSE    FALSE\n",
            "4    18     313 11.5   62     5   4     FALSE       FALSE    FALSE    FALSE\n",
            "5    18      99 14.3   56     5   5      TRUE        TRUE    FALSE    FALSE\n",
            "6    28     299 14.9   66     5   6     FALSE        TRUE    FALSE    FALSE\n",
            "  Month_imp Day_imp\n",
            "1     FALSE   FALSE\n",
            "2     FALSE   FALSE\n",
            "3     FALSE   FALSE\n",
            "4     FALSE   FALSE\n",
            "5     FALSE   FALSE\n",
            "6     FALSE   FALSE\n"
          ]
        }
      ]
    },
    {
      "cell_type": "code",
      "source": [
        "# 2. Imputation Expectation-Maximization (EM)\n",
        "data_em <- missMDA::imputePCA(data, method = \"EM\")\n",
        "print(\"Imputation EM :\")\n",
        "print(head(data_em$completeObs))"
      ],
      "metadata": {
        "colab": {
          "base_uri": "https://localhost:8080/",
          "height": 0
        },
        "id": "-AyOszlUCwSz",
        "outputId": "27d594ee-4a70-41b5-d85b-78cba16ee8c3"
      },
      "id": "-AyOszlUCwSz",
      "execution_count": 49,
      "outputs": [
        {
          "output_type": "stream",
          "name": "stdout",
          "text": [
            "[1] \"Imputation EM :\"\n",
            "         Ozone  Solar.R Wind Temp Month Day\n",
            "[1,] 41.000000 190.0000  7.4   67     5   1\n",
            "[2,] 36.000000 118.0000  8.0   72     5   2\n",
            "[3,] 12.000000 149.0000 12.6   74     5   3\n",
            "[4,] 18.000000 313.0000 11.5   62     5   4\n",
            "[5,] -5.172391 244.6936 14.3   56     5   5\n",
            "[6,] 28.000000 288.3683 14.9   66     5   6\n"
          ]
        }
      ]
    },
    {
      "cell_type": "code",
      "source": [
        "\n",
        "# 3. Imputation pour données qualitatives (MCA)\n",
        "data_qual <- as.data.frame(lapply(data[,1:3], function(x) as.factor(cut(x, breaks=3))))\n",
        "data_qual[is.na(data_qual)] <- NA\n",
        "data_mca <- imputeMCA(data_qual, ncp = 2)\n",
        "print(\"Imputation MCA pour données qualitatives :\")\n",
        "print(data_mca$completeObs)"
      ],
      "metadata": {
        "colab": {
          "base_uri": "https://localhost:8080/",
          "height": 0
        },
        "id": "Gzy4vmgECx9J",
        "outputId": "b8db2d77-f374-474e-bf6f-2a1336de5bdb"
      },
      "id": "Gzy4vmgECx9J",
      "execution_count": 50,
      "outputs": [
        {
          "output_type": "stream",
          "name": "stdout",
          "text": [
            "[1] \"Imputation MCA pour données qualitatives :\"\n",
            "           Ozone    Solar.R        Wind\n",
            "1   (0.833,56.7]  (116,225] (1.68,8.03]\n",
            "2   (0.833,56.7]  (116,225] (1.68,8.03]\n",
            "3   (0.833,56.7]  (116,225] (8.03,14.4]\n",
            "4   (0.833,56.7]  (225,334] (8.03,14.4]\n",
            "5   (0.833,56.7]  (225,334] (8.03,14.4]\n",
            "6   (0.833,56.7]  (225,334] (14.4,20.7]\n",
            "7   (0.833,56.7]  (225,334] (8.03,14.4]\n",
            "8   (0.833,56.7] (6.67,116] (8.03,14.4]\n",
            "9   (0.833,56.7] (6.67,116] (14.4,20.7]\n",
            "10  (0.833,56.7]  (116,225] (8.03,14.4]\n",
            "11  (0.833,56.7]  (116,225] (1.68,8.03]\n",
            "12  (0.833,56.7]  (225,334] (8.03,14.4]\n",
            "13  (0.833,56.7]  (225,334] (8.03,14.4]\n",
            "14  (0.833,56.7]  (225,334] (8.03,14.4]\n",
            "15  (0.833,56.7] (6.67,116] (8.03,14.4]\n",
            "16  (0.833,56.7]  (225,334] (8.03,14.4]\n",
            "17  (0.833,56.7]  (225,334] (8.03,14.4]\n",
            "18  (0.833,56.7] (6.67,116] (14.4,20.7]\n",
            "19  (0.833,56.7]  (225,334] (8.03,14.4]\n",
            "20  (0.833,56.7] (6.67,116] (8.03,14.4]\n",
            "21  (0.833,56.7] (6.67,116] (8.03,14.4]\n",
            "22  (0.833,56.7]  (225,334] (14.4,20.7]\n",
            "23  (0.833,56.7] (6.67,116] (8.03,14.4]\n",
            "24  (0.833,56.7] (6.67,116] (8.03,14.4]\n",
            "25  (0.833,56.7] (6.67,116] (14.4,20.7]\n",
            "26  (0.833,56.7]  (225,334] (14.4,20.7]\n",
            "27  (0.833,56.7]  (116,225] (1.68,8.03]\n",
            "28  (0.833,56.7] (6.67,116] (8.03,14.4]\n",
            "29  (0.833,56.7]  (225,334] (14.4,20.7]\n",
            "30     (112,168]  (116,225] (1.68,8.03]\n",
            "31  (0.833,56.7]  (225,334] (1.68,8.03]\n",
            "32  (0.833,56.7]  (225,334] (8.03,14.4]\n",
            "33  (0.833,56.7]  (225,334] (8.03,14.4]\n",
            "34  (0.833,56.7]  (225,334] (14.4,20.7]\n",
            "35  (0.833,56.7]  (116,225] (8.03,14.4]\n",
            "36  (0.833,56.7]  (116,225] (8.03,14.4]\n",
            "37  (0.833,56.7]  (225,334] (8.03,14.4]\n",
            "38  (0.833,56.7]  (116,225] (8.03,14.4]\n",
            "39  (0.833,56.7]  (225,334] (1.68,8.03]\n",
            "40    (56.7,112]  (225,334] (8.03,14.4]\n",
            "41  (0.833,56.7]  (225,334] (8.03,14.4]\n",
            "42  (0.833,56.7]  (225,334] (8.03,14.4]\n",
            "43  (0.833,56.7]  (225,334] (8.03,14.4]\n",
            "44  (0.833,56.7]  (116,225] (1.68,8.03]\n",
            "45  (0.833,56.7]  (225,334] (8.03,14.4]\n",
            "46  (0.833,56.7]  (225,334] (8.03,14.4]\n",
            "47  (0.833,56.7]  (116,225] (14.4,20.7]\n",
            "48  (0.833,56.7]  (225,334] (14.4,20.7]\n",
            "49  (0.833,56.7] (6.67,116] (8.03,14.4]\n",
            "50  (0.833,56.7]  (116,225] (8.03,14.4]\n",
            "51  (0.833,56.7]  (116,225] (8.03,14.4]\n",
            "52    (56.7,112]  (116,225] (1.68,8.03]\n",
            "53  (0.833,56.7] (6.67,116] (1.68,8.03]\n",
            "54  (0.833,56.7] (6.67,116] (1.68,8.03]\n",
            "55  (0.833,56.7]  (225,334] (1.68,8.03]\n",
            "56    (56.7,112]  (116,225] (1.68,8.03]\n",
            "57    (56.7,112]  (116,225] (1.68,8.03]\n",
            "58  (0.833,56.7] (6.67,116] (8.03,14.4]\n",
            "59  (0.833,56.7] (6.67,116] (8.03,14.4]\n",
            "60  (0.833,56.7] (6.67,116] (14.4,20.7]\n",
            "61    (56.7,112]  (116,225] (1.68,8.03]\n",
            "62     (112,168]  (225,334] (1.68,8.03]\n",
            "63  (0.833,56.7]  (225,334] (8.03,14.4]\n",
            "64  (0.833,56.7]  (225,334] (8.03,14.4]\n",
            "65  (0.833,56.7] (6.67,116] (8.03,14.4]\n",
            "66    (56.7,112]  (116,225] (1.68,8.03]\n",
            "67  (0.833,56.7]  (225,334] (8.03,14.4]\n",
            "68    (56.7,112]  (225,334] (1.68,8.03]\n",
            "69    (56.7,112]  (225,334] (1.68,8.03]\n",
            "70    (56.7,112]  (225,334] (1.68,8.03]\n",
            "71    (56.7,112]  (116,225] (1.68,8.03]\n",
            "72  (0.833,56.7]  (116,225] (8.03,14.4]\n",
            "73  (0.833,56.7]  (225,334] (8.03,14.4]\n",
            "74  (0.833,56.7]  (116,225] (14.4,20.7]\n",
            "75  (0.833,56.7]  (225,334] (14.4,20.7]\n",
            "76  (0.833,56.7] (6.67,116] (8.03,14.4]\n",
            "77  (0.833,56.7]  (225,334] (1.68,8.03]\n",
            "78  (0.833,56.7]  (225,334] (8.03,14.4]\n",
            "79    (56.7,112]  (225,334] (1.68,8.03]\n",
            "80    (56.7,112]  (116,225] (1.68,8.03]\n",
            "81    (56.7,112]  (116,225] (8.03,14.4]\n",
            "82  (0.833,56.7] (6.67,116] (1.68,8.03]\n",
            "83  (0.833,56.7]  (225,334] (8.03,14.4]\n",
            "84  (0.833,56.7]  (225,334] (8.03,14.4]\n",
            "85    (56.7,112]  (225,334] (8.03,14.4]\n",
            "86    (56.7,112]  (116,225] (1.68,8.03]\n",
            "87  (0.833,56.7] (6.67,116] (8.03,14.4]\n",
            "88  (0.833,56.7] (6.67,116] (8.03,14.4]\n",
            "89    (56.7,112]  (116,225] (1.68,8.03]\n",
            "90  (0.833,56.7]  (225,334] (1.68,8.03]\n",
            "91    (56.7,112]  (225,334] (1.68,8.03]\n",
            "92    (56.7,112]  (225,334] (8.03,14.4]\n",
            "93  (0.833,56.7] (6.67,116] (1.68,8.03]\n",
            "94  (0.833,56.7] (6.67,116] (8.03,14.4]\n",
            "95  (0.833,56.7] (6.67,116] (1.68,8.03]\n",
            "96    (56.7,112]  (116,225] (1.68,8.03]\n",
            "97  (0.833,56.7]  (116,225] (1.68,8.03]\n",
            "98    (56.7,112]  (116,225] (1.68,8.03]\n",
            "99     (112,168]  (225,334] (1.68,8.03]\n",
            "100   (56.7,112]  (225,334] (8.03,14.4]\n",
            "101   (56.7,112]  (116,225] (1.68,8.03]\n",
            "102 (0.833,56.7]  (116,225] (8.03,14.4]\n",
            "103 (0.833,56.7]  (116,225] (8.03,14.4]\n",
            "104 (0.833,56.7]  (116,225] (8.03,14.4]\n",
            "105 (0.833,56.7]  (225,334] (8.03,14.4]\n",
            "106   (56.7,112]  (116,225] (8.03,14.4]\n",
            "107 (0.833,56.7] (6.67,116] (8.03,14.4]\n",
            "108 (0.833,56.7] (6.67,116] (8.03,14.4]\n",
            "109   (56.7,112] (6.67,116] (1.68,8.03]\n",
            "110 (0.833,56.7] (6.67,116] (1.68,8.03]\n",
            "111 (0.833,56.7]  (225,334] (8.03,14.4]\n",
            "112 (0.833,56.7]  (116,225] (8.03,14.4]\n",
            "113 (0.833,56.7]  (225,334] (14.4,20.7]\n",
            "114 (0.833,56.7] (6.67,116] (8.03,14.4]\n",
            "115 (0.833,56.7]  (225,334] (8.03,14.4]\n",
            "116 (0.833,56.7]  (116,225] (8.03,14.4]\n",
            "117    (112,168]  (225,334] (1.68,8.03]\n",
            "118   (56.7,112]  (116,225] (1.68,8.03]\n",
            "119   (56.7,112]  (116,225] (1.68,8.03]\n",
            "120   (56.7,112]  (116,225] (8.03,14.4]\n",
            "121    (112,168]  (116,225] (1.68,8.03]\n",
            "122   (56.7,112]  (225,334] (1.68,8.03]\n",
            "123   (56.7,112]  (116,225] (1.68,8.03]\n",
            "124   (56.7,112]  (116,225] (1.68,8.03]\n",
            "125   (56.7,112]  (116,225] (1.68,8.03]\n",
            "126   (56.7,112]  (116,225] (1.68,8.03]\n",
            "127   (56.7,112]  (116,225] (1.68,8.03]\n",
            "128 (0.833,56.7] (6.67,116] (1.68,8.03]\n",
            "129 (0.833,56.7] (6.67,116] (14.4,20.7]\n",
            "130 (0.833,56.7]  (225,334] (8.03,14.4]\n",
            "131 (0.833,56.7]  (116,225] (8.03,14.4]\n",
            "132 (0.833,56.7]  (225,334] (8.03,14.4]\n",
            "133 (0.833,56.7]  (225,334] (8.03,14.4]\n",
            "134 (0.833,56.7]  (225,334] (14.4,20.7]\n",
            "135 (0.833,56.7]  (225,334] (14.4,20.7]\n",
            "136 (0.833,56.7]  (225,334] (1.68,8.03]\n",
            "137 (0.833,56.7] (6.67,116] (8.03,14.4]\n",
            "138 (0.833,56.7] (6.67,116] (8.03,14.4]\n",
            "139 (0.833,56.7]  (225,334] (1.68,8.03]\n",
            "140 (0.833,56.7]  (116,225] (8.03,14.4]\n",
            "141 (0.833,56.7] (6.67,116] (8.03,14.4]\n",
            "142 (0.833,56.7]  (225,334] (8.03,14.4]\n",
            "143 (0.833,56.7]  (116,225] (1.68,8.03]\n",
            "144 (0.833,56.7]  (225,334] (8.03,14.4]\n",
            "145 (0.833,56.7] (6.67,116] (8.03,14.4]\n",
            "146 (0.833,56.7]  (116,225] (8.03,14.4]\n",
            "147 (0.833,56.7] (6.67,116] (8.03,14.4]\n",
            "148 (0.833,56.7] (6.67,116] (14.4,20.7]\n",
            "149 (0.833,56.7]  (116,225] (1.68,8.03]\n",
            "150 (0.833,56.7]  (116,225] (8.03,14.4]\n",
            "151 (0.833,56.7]  (116,225] (8.03,14.4]\n",
            "152 (0.833,56.7]  (116,225] (1.68,8.03]\n",
            "153 (0.833,56.7]  (116,225] (8.03,14.4]\n"
          ]
        }
      ]
    },
    {
      "cell_type": "markdown",
      "source": [
        "SECTION 3: IMPUTATION PAR MODÈLES STATISTIQUES"
      ],
      "metadata": {
        "id": "-e94f2eqC0uS"
      },
      "id": "-e94f2eqC0uS"
    },
    {
      "cell_type": "code",
      "source": [
        "# Imputation par Modèles Mixtes\n",
        "# Assumption: 'Month' can be used as a random effect group for illustration\n",
        "data$Month <- factor(data$Month)\n",
        "fit_mixed <- lmer(Ozone ~ Solar.R + Wind + Temp + (1 | Month), data = na.omit(data), REML = FALSE)\n",
        "data$Ozone_imputed <- ifelse(is.na(data$Ozone), predict(fit_mixed, newdata = data, allow.new.levels = TRUE), data$Ozone)\n",
        "print(\"Données après imputation par modèle mixte :\")\n",
        "print(head(data$Ozone_imputed))"
      ],
      "metadata": {
        "colab": {
          "base_uri": "https://localhost:8080/",
          "height": 0
        },
        "id": "viDVKRSKC3Rk",
        "outputId": "0086706f-2ad0-45f0-aca7-c54dd2a02bfe"
      },
      "id": "viDVKRSKC3Rk",
      "execution_count": 51,
      "outputs": [
        {
          "output_type": "stream",
          "name": "stdout",
          "text": [
            "[1] \"Données après imputation par modèle mixte :\"\n",
            "[1] 41 36 12 18 NA 28\n"
          ]
        }
      ]
    },
    {
      "cell_type": "code",
      "source": [
        "# Imputation par Chaînes de Markov Monte Carlo (MCMC)\n",
        "data$Solar.R <- as.numeric(as.character(data$Solar.R))\n",
        "data$Solar.R[is.na(data$Solar.R)] <- mean(data$Solar.R, na.rm = TRUE)\n",
        "fit_mcmc <- MCMCglmm(Ozone ~ Solar.R + Wind + Temp, random = ~Month, data = data, nitt = 13000, burnin = 3000, pr = TRUE)\n",
        "data$Ozone_imputed_mcmc <- ifelse(is.na(data$Ozone), predict(fit_mcmc, newdata = data), data$Ozone)\n",
        "# Print the imputed data\n",
        "print(\"Données après imputation avec MCMC :\")\n",
        "print(head(data$Ozone_imputed_mcmc))"
      ],
      "metadata": {
        "colab": {
          "base_uri": "https://localhost:8080/",
          "height": 0
        },
        "id": "xBtpEQHPC4-q",
        "outputId": "7d228014-ff82-4f14-8d6d-ce790a6a9101"
      },
      "id": "xBtpEQHPC4-q",
      "execution_count": 52,
      "outputs": [
        {
          "output_type": "stream",
          "name": "stdout",
          "text": [
            "\n",
            "                       MCMC iteration = 0\n",
            "\n",
            "                       MCMC iteration = 1000\n",
            "\n",
            "                       MCMC iteration = 2000\n",
            "\n",
            "                       MCMC iteration = 3000\n",
            "\n",
            "                       MCMC iteration = 4000\n",
            "\n",
            "                       MCMC iteration = 5000\n",
            "\n",
            "                       MCMC iteration = 6000\n",
            "\n",
            "                       MCMC iteration = 7000\n",
            "\n",
            "                       MCMC iteration = 8000\n",
            "\n",
            "                       MCMC iteration = 9000\n",
            "\n",
            "                       MCMC iteration = 10000\n",
            "\n",
            "                       MCMC iteration = 11000\n",
            "\n",
            "                       MCMC iteration = 12000\n",
            "\n",
            "                       MCMC iteration = 13000\n",
            "[1] \"Données après imputation avec MCMC :\"\n",
            "[1] 41.000000 36.000000 12.000000 18.000000 -8.177573 28.000000\n"
          ]
        }
      ]
    },
    {
      "cell_type": "code",
      "source": [
        "# Joint Modeling avec Amelia\n",
        "data_joint <- amelia(data, m = 5, idvars = \"Month\")$imputations[[1]]\n",
        "data$Ozone_imputed_amelia <- data_joint$Ozone\n",
        "print(\"Données après imputation avec Joint Modeling (Amelia) :\")\n",
        "print(head(data$Ozone_imputed_amelia))"
      ],
      "metadata": {
        "colab": {
          "base_uri": "https://localhost:8080/",
          "height": 0
        },
        "id": "mEPIFjzvC5cO",
        "outputId": "b1604eff-9e70-4e14-dce0-20ba2a591ace"
      },
      "id": "mEPIFjzvC5cO",
      "execution_count": 53,
      "outputs": [
        {
          "output_type": "stream",
          "name": "stderr",
          "text": [
            "Warning message in amcheck(x = x, m = m, idvars = numopts$idvars, priors = priors, :\n",
            "“The variables (or variable with levels) Ozone_imputed, Ozone_imputed_mcmc are perfectly collinear with another variable in the data.\n",
            "”\n"
          ]
        },
        {
          "output_type": "stream",
          "name": "stdout",
          "text": [
            "-- Imputation 1 --\n",
            "\n",
            "  1  2  3  4  5  6  7  8  9\n",
            "\n",
            "-- Imputation 2 --\n",
            "\n",
            "  1  2  3  4  5  6  7\n",
            "\n",
            "-- Imputation 3 --\n",
            "\n",
            "  1  2  3  4  5  6  7  8\n",
            "\n",
            "-- Imputation 4 --\n",
            "\n",
            "  1  2  3  4  5  6  7  8  9\n",
            "\n",
            "-- Imputation 5 --\n",
            "\n",
            "  1  2  3  4  5  6  7  8  9 10 11 12\n",
            "\n",
            "[1] \"Données après imputation avec Joint Modeling (Amelia) :\"\n",
            "[1] 41.000000 36.000000 12.000000 18.000000 -8.694116 28.000000\n"
          ]
        }
      ]
    },
    {
      "cell_type": "markdown",
      "source": [
        "SECTION 4: VALIDATION DE L'IMPUTATION"
      ],
      "metadata": {
        "id": "MEQIaL_lC_Gz"
      },
      "id": "MEQIaL_lC_Gz"
    },
    {
      "cell_type": "code",
      "source": [
        "# Calcul de la RMSE pour évaluer la qualité de chaque méthode\n",
        "rmse <- function(true, predicted) {\n",
        "  sqrt(mean((true - predicted)^2, na.rm = TRUE))\n",
        "}\n",
        "rmse_mixed <- rmse(data$Ozone, data$Ozone_imputed)\n",
        "rmse_mcmc <- rmse(data$Ozone, data$Ozone_imputed_mcmc)\n",
        "rmse_amelia <- rmse(data$Ozone, data$Ozone_imputed_amelia)\n",
        "\n",
        "# Print RMSE results\n",
        "print(paste(\"RMSE Modèle Mixte:\", rmse_mixed))\n",
        "print(paste(\"RMSE MCMC:\", rmse_mcmc))\n",
        "print(paste(\"RMSE Amelia:\", rmse_amelia))"
      ],
      "metadata": {
        "colab": {
          "base_uri": "https://localhost:8080/",
          "height": 0
        },
        "id": "2p-Uj1WbDAGP",
        "outputId": "bdbe9c4f-79a1-4073-ba2c-3a7cc0ed6b36"
      },
      "id": "2p-Uj1WbDAGP",
      "execution_count": 54,
      "outputs": [
        {
          "output_type": "stream",
          "name": "stdout",
          "text": [
            "[1] \"RMSE Modèle Mixte: 0\"\n",
            "[1] \"RMSE MCMC: 0\"\n",
            "[1] \"RMSE Amelia: 0\"\n"
          ]
        }
      ]
    },
    {
      "cell_type": "markdown",
      "source": [
        " SECTION 5: VISUALISATION DES DONNÉES IMPUTÉES"
      ],
      "metadata": {
        "id": "S6FSZCaKDFAA"
      },
      "id": "S6FSZCaKDFAA"
    },
    {
      "cell_type": "code",
      "source": [
        "# Preparing data for plotting\n",
        "data_long <- rbind(\n",
        "  data.frame(type = \"Original\", Ozone = data$Ozone, Solar.R = data$Solar.R, Wind = data$Wind, Temp = data$Temp),\n",
        "  data.frame(type = \"Modèle Mixte\", Ozone = data$Ozone_imputed, Solar.R = data$Solar.R, Wind = data$Wind, Temp = data$Temp),\n",
        "  data.frame(type = \"MCMC\", Ozone = data$Ozone_imputed_mcmc, Solar.R = data$Solar.R, Wind = data$Wind, Temp = data$Temp),\n",
        "  data.frame(type = \"Amelia\", Ozone = data_joint$Ozone, Solar.R = data$Solar.R, Wind = data$Wind, Temp = data$Temp)\n",
        ")\n",
        "\n",
        "# Ensure column names are consistent for proper rbind operation\n",
        "\n",
        "\n",
        "# Plotting\n",
        "plot_list <- list()\n",
        "for (col in names(data[, c(\"Ozone\", \"Solar.R\", \"Wind\", \"Temp\")])) {\n",
        "  p <- ggplot(data_long, aes_string(x = 'type', y = col)) +\n",
        "    geom_boxplot() + labs(title = paste(\"Imputation de\", col))\n",
        "  plot_list[[col]] <- p\n",
        "}\n",
        "do.call(grid.arrange, plot_list)"
      ],
      "metadata": {
        "colab": {
          "base_uri": "https://localhost:8080/",
          "height": 489
        },
        "id": "cs6942OUDJb_",
        "outputId": "30830aa0-9abd-4771-ef84-d26686ed2275"
      },
      "id": "cs6942OUDJb_",
      "execution_count": 55,
      "outputs": [
        {
          "output_type": "stream",
          "name": "stderr",
          "text": [
            "Warning message:\n",
            "“\u001b[1m\u001b[22mRemoved 39 rows containing non-finite outside the scale range\n",
            "(`stat_boxplot()`).”\n"
          ]
        },
        {
          "output_type": "display_data",
          "data": {
            "text/plain": [
              "plot without title"
            ],
            "image/png": "[encoded data removed]"
          },
          "metadata": {
            "image/png": {
              "width": 420,
              "height": 420
            }
          }
        }
      ]
    },
    {
      "cell_type": "markdown",
      "source": [
        "SECTION 6: ANALYSE DES VALEURS MANQUANTES"
      ],
      "metadata": {
        "id": "RIJh8LeZDOUf"
      },
      "id": "RIJh8LeZDOUf"
    },
    {
      "cell_type": "code",
      "source": [
        "# Heatmap des valeurs manquantes\n",
        "print(\"Heatmap des valeurs manquantes :\")\n",
        "vis_miss(data[, c(\"Ozone\", \"Solar.R\", \"Wind\", \"Temp\")])\n",
        "\n",
        "# Patron des valeurs manquantes avec md.pattern\n",
        "print(\"Patron des valeurs manquantes :\")\n",
        "pattern <- md.pattern(data[, c(\"Ozone\", \"Solar.R\", \"Wind\", \"Temp\")])\n",
        "print(pattern)\n",
        "\n",
        "# Test MCAR de Little\n",
        "mcar_test_result <- mcar_test(data[, c(\"Ozone\", \"Solar.R\", \"Wind\", \"Temp\")])\n",
        "print(\"Test de Little pour MCAR :\")\n",
        "print(mcar_test_result)\n"
      ],
      "metadata": {
        "colab": {
          "base_uri": "https://localhost:8080/",
          "height": 1048
        },
        "id": "3GcH2FzhBtbR",
        "outputId": "8eca248d-47e8-42e9-b739-5479e2795402"
      },
      "id": "3GcH2FzhBtbR",
      "execution_count": 56,
      "outputs": [
        {
          "output_type": "stream",
          "name": "stdout",
          "text": [
            "[1] \"Heatmap des valeurs manquantes :\"\n",
            "[1] \"Patron des valeurs manquantes :\"\n"
          ]
        },
        {
          "output_type": "display_data",
          "data": {
            "text/plain": [
              "plot without title"
            ],
            "image/png": "[encoded data removed]"
          },
          "metadata": {
            "image/png": {
              "width": 420,
              "height": 420
            }
          }
        },
        {
          "output_type": "stream",
          "name": "stdout",
          "text": [
            "    Solar.R Wind Temp Ozone   \n",
            "116       1    1    1     1  0\n",
            "37        1    1    1     0  1\n",
            "          0    0    0    37 37\n",
            "[1] \"Test de Little pour MCAR :\"\n",
            "\u001b[90m# A tibble: 1 × 4\u001b[39m\n",
            "  statistic    df p.value missing.patterns\n",
            "      \u001b[3m\u001b[90m<dbl>\u001b[39m\u001b[23m \u001b[3m\u001b[90m<dbl>\u001b[39m\u001b[23m   \u001b[3m\u001b[90m<dbl>\u001b[39m\u001b[23m            \u001b[3m\u001b[90m<int>\u001b[39m\u001b[23m\n",
            "\u001b[90m1\u001b[39m     0.517     3   0.915                2\n"
          ]
        },
        {
          "output_type": "display_data",
          "data": {
            "text/plain": [
              "plot without title"
            ],
            "image/png": "[encoded data removed]"
          },
          "metadata": {
            "image/png": {
              "width": 420,
              "height": 420
            }
          }
        }
      ]
    }
  ],
  "metadata": {
    "colab": {
      "provenance": [],
      "collapsed_sections": [
        "jOL-4-l39Fz5",
        "vGFDTk5h_ApM"
      ]
    },
    "kernelspec": {
      "name": "ir",
      "display_name": "R"
    },
    "language_info": {
      "name": "R"
    }
  },
  "nbformat": 4,
  "nbformat_minor": 5
}
{
  "nbformat": 4,
  "nbformat_minor": 0,
  "metadata": {
    "colab": {
      "provenance": [],
      "gpuType": "T4",
      "collapsed_sections": [
        "GhhCY7J0o9aE"
      ]
    },
    "kernelspec": {
      "name": "python3",
      "display_name": "Python 3"
    },
    "language_info": {
      "name": "python"
    },
    "accelerator": "GPU"
  },
  "cells": [
    {
      "cell_type": "markdown",
      "source": [
        "dasn ce projet j'ai fait plusieurs étapes clés pour évaluer et améliorer la robustesse des modèles de machine learning face aux attaques adversariales que je les ai trouvé sur les slides  :\n",
        "\n",
        "1. **Modélisation et Prédiction Initiales**\n",
        "2. **Attaques Adversariales**\n",
        "3. **Test du Modèle**\n",
        "4. **Visualisation**\n",
        "5. **Entraînement Adversarial**\n",
        "\n",
        "j'ai travailler avec deux methode d'attack, le fgsm et le pgd sur les donnes FashionMnist"
      ],
      "metadata": {
        "id": "8Nr_FHpAn5hs"
      }
    },
    {
      "cell_type": "markdown",
      "source": [
        "## FGSM\n"
      ],
      "metadata": {
        "id": "yqiGVTOl7cQR"
      }
    },
    {
      "cell_type": "code",
      "source": [
        "!pip install torch\n"
      ],
      "metadata": {
        "colab": {
          "base_uri": "https://localhost:8080/"
        },
        "collapsed": true,
        "id": "hvfUGAKEFzlQ",
        "outputId": "352b30dd-ead1-4d42-8bc4-6372ae18310a"
      },
      "execution_count": null,
      "outputs": [
        {
          "output_type": "stream",
          "name": "stdout",
          "text": [
            "\u001b[33mWARNING: Ignoring invalid distribution -vidia-cudnn-cu12 (/usr/local/lib/python3.10/dist-packages)\u001b[0m\u001b[33m\n",
            "\u001b[0mCollecting torch\n",
            "  Using cached torch-2.5.1-cp310-cp310-manylinux1_x86_64.whl.metadata (28 kB)\n",
            "Requirement already satisfied: filelock in /usr/local/lib/python3.10/dist-packages (from torch) (3.16.1)\n",
            "Requirement already satisfied: typing-extensions>=4.8.0 in /usr/local/lib/python3.10/dist-packages (from torch) (4.12.2)\n",
            "Requirement already satisfied: networkx in /usr/local/lib/python3.10/dist-packages (from torch) (3.4.2)\n",
            "Requirement already satisfied: jinja2 in /usr/local/lib/python3.10/dist-packages (from torch) (3.1.4)\n",
            "Requirement already satisfied: fsspec in /usr/local/lib/python3.10/dist-packages (from torch) (2024.10.0)\n",
            "Requirement already satisfied: nvidia-cuda-nvrtc-cu12==12.4.127 in /usr/local/lib/python3.10/dist-packages (from torch) (12.4.127)\n",
            "Requirement already satisfied: nvidia-cuda-runtime-cu12==12.4.127 in /usr/local/lib/python3.10/dist-packages (from torch) (12.4.127)\n",
            "Requirement already satisfied: nvidia-cuda-cupti-cu12==12.4.127 in /usr/local/lib/python3.10/dist-packages (from torch) (12.4.127)\n",
            "Collecting nvidia-cudnn-cu12==9.1.0.70 (from torch)\n",
            "  Using cached nvidia_cudnn_cu12-9.1.0.70-py3-none-manylinux2014_x86_64.whl.metadata (1.6 kB)\n",
            "Requirement already satisfied: nvidia-cublas-cu12==12.4.5.8 in /usr/local/lib/python3.10/dist-packages (from torch) (12.4.5.8)\n",
            "Requirement already satisfied: nvidia-cufft-cu12==11.2.1.3 in /usr/local/lib/python3.10/dist-packages (from torch) (11.2.1.3)\n",
            "Requirement already satisfied: nvidia-curand-cu12==10.3.5.147 in /usr/local/lib/python3.10/dist-packages (from torch) (10.3.5.147)\n",
            "Collecting nvidia-cusolver-cu12==11.6.1.9 (from torch)\n",
            "  Using cached nvidia_cusolver_cu12-11.6.1.9-py3-none-manylinux2014_x86_64.whl.metadata (1.6 kB)\n",
            "Requirement already satisfied: nvidia-cusparse-cu12==12.3.1.170 in /usr/local/lib/python3.10/dist-packages (from torch) (12.3.1.170)\n",
            "Requirement already satisfied: nvidia-nccl-cu12==2.21.5 in /usr/local/lib/python3.10/dist-packages (from torch) (2.21.5)\n",
            "Requirement already satisfied: nvidia-nvtx-cu12==12.4.127 in /usr/local/lib/python3.10/dist-packages (from torch) (12.4.127)\n",
            "Requirement already satisfied: nvidia-nvjitlink-cu12==12.4.127 in /usr/local/lib/python3.10/dist-packages (from torch) (12.4.127)\n",
            "Requirement already satisfied: triton==3.1.0 in /usr/local/lib/python3.10/dist-packages (from torch) (3.1.0)\n",
            "Requirement already satisfied: sympy==1.13.1 in /usr/local/lib/python3.10/dist-packages (from torch) (1.13.1)\n",
            "Requirement already satisfied: mpmath<1.4,>=1.1.0 in /usr/local/lib/python3.10/dist-packages (from sympy==1.13.1->torch) (1.3.0)\n",
            "Requirement already satisfied: MarkupSafe>=2.0 in /usr/local/lib/python3.10/dist-packages (from jinja2->torch) (3.0.2)\n",
            "Using cached torch-2.5.1-cp310-cp310-manylinux1_x86_64.whl (906.4 MB)\n",
            "Using cached nvidia_cudnn_cu12-9.1.0.70-py3-none-manylinux2014_x86_64.whl (664.8 MB)\n",
            "Using cached nvidia_cusolver_cu12-11.6.1.9-py3-none-manylinux2014_x86_64.whl (127.9 MB)\n",
            "\u001b[33mWARNING: Ignoring invalid distribution -vidia-cudnn-cu12 (/usr/local/lib/python3.10/dist-packages)\u001b[0m\u001b[33m\n",
            "\u001b[0mInstalling collected packages: nvidia-cudnn-cu12, nvidia-cusolver-cu12, torch\n",
            "  Attempting uninstall: nvidia-cusolver-cu12\n",
            "    Found existing installation: nvidia-cusolver-cu12 11.7.1.2\n",
            "    Uninstalling nvidia-cusolver-cu12-11.7.1.2:\n",
            "      Successfully uninstalled nvidia-cusolver-cu12-11.7.1.2\n",
            "\u001b[31mERROR: pip's dependency resolver does not currently take into account all the packages that are installed. This behaviour is the source of the following dependency conflicts.\n",
            "torchaudio 2.5.0+cu121 requires torch==2.5.0, but you have torch 2.5.1 which is incompatible.\n",
            "torchvision 0.20.0+cu121 requires torch==2.5.0, but you have torch 2.5.1 which is incompatible.\u001b[0m\u001b[31m\n",
            "\u001b[0mSuccessfully installed nvidia-cudnn-cu12-9.1.0.70 nvidia-cusolver-cu12-11.6.1.9 torch-2.5.1\n"
          ]
        }
      ]
    },
    {
      "cell_type": "markdown",
      "source": [],
      "metadata": {
        "id": "NH2mX7gYhxsq"
      }
    },
    {
      "cell_type": "code",
      "source": [
        "import torch\n",
        "import torch.nn as nn\n",
        "import torch.optim as optim\n",
        "import torchvision\n",
        "import torchvision.transforms as transforms\n",
        "import matplotlib.pyplot as plt\n",
        "\n",
        "# Configuration du dispositif\n",
        "device = torch.device(\"cuda\" if torch.cuda.is_available() else \"cpu\")\n"
      ],
      "metadata": {
        "id": "haOv_uXeHhOk"
      },
      "execution_count": null,
      "outputs": []
    },
    {
      "cell_type": "code",
      "source": [
        "\n",
        "# Définitions des transformations pour chaque dataset\n",
        "transform_mnist_fashion = transforms.Compose([transforms.ToTensor(), transforms.Normalize((0.5,), (0.5,))])\n",
        "transform_cifar10_svhn_celeba = transforms.Compose([transforms.ToTensor(), transforms.Normalize((0.5, 0.5, 0.5), (0.5, 0.5, 0.5))])\n"
      ],
      "metadata": {
        "id": "RruW4n3NHk_s"
      },
      "execution_count": null,
      "outputs": []
    },
    {
      "cell_type": "code",
      "source": [
        "# Chargement des datasets\n"
      ],
      "metadata": {
        "id": "W5zYJuHiHoK0"
      },
      "execution_count": null,
      "outputs": []
    },
    {
      "cell_type": "code",
      "source": [
        "trainloader_fashion = torch.utils.data.DataLoader(\n",
        "    torchvision.datasets.FashionMNIST(root='./data', train=True, download=True, transform=transform_mnist_fashion),\n",
        "    batch_size=64, shuffle=True)\n",
        "testloader_fashion = torch.utils.data.DataLoader(\n",
        "    torchvision.datasets.FashionMNIST(root='./data', train=False, download=True, transform=transform_mnist_fashion),\n",
        "    batch_size=64, shuffle=False)"
      ],
      "metadata": {
        "id": "qdyAdwIVHqUM"
      },
      "execution_count": null,
      "outputs": []
    },
    {
      "cell_type": "code",
      "source": [
        "\n",
        "\n",
        "# Modèle simple de réseau de neurones\n",
        "class SimpleCNN28(nn.Module):\n",
        "    \"\"\"Modèle pour les images de taille 28x28 (MNIST, FashionMNIST)\"\"\"\n",
        "    def __init__(self, input_channels=1):\n",
        "        super(SimpleCNN28, self).__init__()\n",
        "        self.conv1 = nn.Conv2d(input_channels, 16, kernel_size=5, stride=1, padding=2)\n",
        "        self.conv2 = nn.Conv2d(16, 32, kernel_size=5, stride=1, padding=2)\n",
        "        self.fc1 = nn.Linear(32 * 7 * 7, 128)\n",
        "        self.fc2 = nn.Linear(128, 10)\n",
        "\n",
        "    def forward(self, x):\n",
        "        x = torch.relu(self.conv1(x))\n",
        "        x = torch.max_pool2d(x, 2)\n",
        "        x = torch.relu(self.conv2(x))\n",
        "        x = torch.max_pool2d(x, 2)\n",
        "        x = x.view(x.size(0), -1)\n",
        "        x = torch.relu(self.fc1(x))\n",
        "        x = self.fc2(x)\n",
        "        return x\n",
        "\n",
        "# Initialisation de la fonction de perte et de l'optimizer\n",
        "criterion = nn.CrossEntropyLoss()\n",
        "\n",
        "# Fonction d'attaque FGSM\n",
        "def fgsm_attack(image, epsilon, data_grad):\n",
        "    sign_data_grad = data_grad.sign()\n",
        "    perturbed_image = image + epsilon * sign_data_grad\n",
        "    return torch.clamp(perturbed_image, 0, 1)\n",
        "\n",
        "# Fonction de test avec FGSM\n",
        "def test_fgsm(model, testloader, epsilon):\n",
        "    correct = 0\n",
        "    adv_examples = []\n",
        "    model.eval()\n",
        "\n",
        "    for data, target in testloader:\n",
        "        data, target = data.to(device), target.to(device)\n",
        "        data.requires_grad = True\n",
        "\n",
        "        output = model(data)\n",
        "        init_pred = output.max(1, keepdim=True)[1]\n",
        "        loss = criterion(output, target)\n",
        "        model.zero_grad()\n",
        "        loss.backward()\n",
        "\n",
        "        data_grad = data.grad.data\n",
        "        perturbed_data = fgsm_attack(data, epsilon, data_grad)\n",
        "\n",
        "        output = model(perturbed_data)\n",
        "        final_pred = output.max(1, keepdim=True)[1]\n",
        "        correct += (final_pred == target).sum().item()\n",
        "\n",
        "    final_acc = correct / float(len(testloader.dataset))\n",
        "    print(f'Epsilon: {epsilon}\\tTest Accuracy = {final_acc * 100:.2f}%')\n",
        "\n",
        "# Entraînement et test pour chaque dataset\n",
        "def train_and_evaluate(dataset_name, trainloader, testloader, model, epsilon=0.3):\n",
        "    print(f\"\\nTraining and evaluating FGSM on {dataset_name} dataset\")\n",
        "    model.to(device)\n",
        "    optimizer = optim.Adam(model.parameters(), lr=0.001)\n",
        "\n",
        "    # Entraînement du modèle\n",
        "    model.train()\n",
        "    for epoch in range(3):  # Entraîner pour 3 époques pour cet exemple\n",
        "        for images, labels in trainloader:\n",
        "            images, labels = images.to(device), labels.to(device)\n",
        "            optimizer.zero_grad()\n",
        "            outputs = model(images)\n",
        "            loss = criterion(outputs, labels)\n",
        "            loss.backward()\n",
        "            optimizer.step()\n",
        "\n",
        "    # Test FGSM\n",
        "    test_fgsm(model, testloader, epsilon)\n",
        "\n",
        "\n",
        "\n"
      ],
      "metadata": {
        "id": "Bp8PBn37FGcY"
      },
      "execution_count": null,
      "outputs": []
    },
    {
      "cell_type": "code",
      "source": [
        "# Tester sur chaque dataset\n",
        "model_fashion = SimpleCNN28(input_channels=1).to(device)\n",
        "train_and_evaluate(\"FashionMNIST\", trainloader_fashion, testloader_fashion, model=model_fashion, epsilon=0.3)\n"
      ],
      "metadata": {
        "id": "SOLm2XYxJDw2",
        "colab": {
          "base_uri": "https://localhost:8080/"
        },
        "outputId": "ba149f51-dd8c-430e-ee6e-c177455a5348"
      },
      "execution_count": null,
      "outputs": [
        {
          "output_type": "stream",
          "name": "stdout",
          "text": [
            "\n",
            "Training and evaluating FGSM on FashionMNIST dataset\n",
            "Epsilon: 0.3\tTest Accuracy = 643.39%\n"
          ]
        }
      ]
    },
    {
      "cell_type": "code",
      "source": [
        "import matplotlib.pyplot as plt\n",
        "\n",
        "def visualize_attack(model, testloader, epsilon, input_channels=1, dataset_name=\"Dataset\"):\n",
        "    \"\"\"\n",
        "    Visualise l'effet de l'attaque FGSM sur un modèle en affichant des images originales et perturbées.\n",
        "\n",
        "    Arguments :\n",
        "    - model : Le modèle entraîné sur lequel effectuer l'attaque.\n",
        "    - testloader : DataLoader contenant le jeu de test.\n",
        "    - epsilon : Magnitude de la perturbation pour FGSM.\n",
        "    - input_channels : Nombre de canaux d'entrée (1 pour les images en niveaux de gris, 3 pour les images en couleur).\n",
        "    - dataset_name : Nom du dataset, utilisé pour distinguer les images dans les annotations.\n",
        "    \"\"\"\n",
        "\n",
        "    # Extraire un batch de données\n",
        "    dataiter = iter(testloader)\n",
        "    images, labels = next(dataiter)\n",
        "    images, labels = images.to(device), labels.to(device)\n",
        "\n",
        "    # Générer une attaque FGSM\n",
        "    images.requires_grad = True\n",
        "    output = model(images)\n",
        "    loss = criterion(output, labels)\n",
        "    model.zero_grad()\n",
        "    loss.backward()\n",
        "    data_grad = images.grad.data\n",
        "    perturbed_data = fgsm_attack(images, epsilon, data_grad)\n",
        "\n",
        "    # Créer la figure\n",
        "    fig, axes = plt.subplots(2, 6, figsize=(12, 5))\n",
        "    fig.suptitle(f\"FGSM Attack Visualization on {dataset_name} (Epsilon: {epsilon})\", fontsize=16)\n",
        "\n",
        "    for i in range(6):\n",
        "        # Image originale\n",
        "        ax = axes[0, i]\n",
        "        original_img = images[i].detach().cpu().numpy()\n",
        "        if input_channels == 1:\n",
        "            ax.imshow(original_img.squeeze(), cmap=\"gray\")\n",
        "        else:\n",
        "            ax.imshow(original_img.transpose(1, 2, 0))\n",
        "        ax.axis(\"off\")\n",
        "        ax.set_title(\"Original\")\n",
        "\n",
        "        # Image perturbée\n",
        "        ax = axes[1, i]\n",
        "        perturbed_img = perturbed_data[i].detach().cpu().numpy()\n",
        "        if input_channels == 1:\n",
        "            ax.imshow(perturbed_img.squeeze(), cmap=\"gray\")\n",
        "        else:\n",
        "            ax.imshow(perturbed_img.transpose(1, 2, 0))\n",
        "        ax.axis(\"off\")\n",
        "        ax.set_title(\"Perturbé\")\n",
        "\n",
        "    plt.tight_layout(rect=[0, 0.03, 1, 0.95])  # Ajuster l'espace pour le titre principal\n",
        "    plt.show()\n"
      ],
      "metadata": {
        "id": "IStiz1UeWCgP"
      },
      "execution_count": null,
      "outputs": []
    },
    {
      "cell_type": "code",
      "source": [
        "# Visualiser l'attaque FGSM sur MNIST\n",
        "visualize_attack(model_fashion, testloader_fashion, epsilon=0.3, input_channels=1, dataset_name=\"FashionMNIST\")\n"
      ],
      "metadata": {
        "id": "QcQIb6r9egl9",
        "colab": {
          "base_uri": "https://localhost:8080/",
          "height": 488
        },
        "outputId": "911a13df-73e0-4856-b8c4-9256b2b1defb"
      },
      "execution_count": null,
      "outputs": [
        {
          "output_type": "display_data",
          "data": {
            "text/plain": [
              "<Figure size 1200x500 with 12 Axes>"
            ],
            "image/png": "[encoded data removed]"
          },
          "metadata": {}
        }
      ]
    },
    {
      "cell_type": "code",
      "source": [
        "def certify_robustness(model, testloader, epsilon, input_channels=1):\n",
        "    \"\"\"\n",
        "    Certifie que les prédictions du modèle sont robustes sous une perturbation FGSM de magnitude epsilon.\n",
        "\n",
        "    Arguments :\n",
        "    - model : Le modèle à tester.\n",
        "    - testloader : Le DataLoader pour le jeu de test.\n",
        "    - epsilon : La magnitude de la perturbation.\n",
        "    - input_channels : Le nombre de canaux d'entrée (1 pour les images en niveaux de gris, 3 pour les images en couleur).\n",
        "    \"\"\"\n",
        "    model.eval()\n",
        "    correct_certified = 0\n",
        "    total = 0\n",
        "\n",
        "    for data, target in testloader:\n",
        "        data, target = data.to(device), target.to(device)\n",
        "        total += target.size(0)\n",
        "\n",
        "        # Prédiction initiale\n",
        "        output = model(data)\n",
        "        init_pred = output.max(1, keepdim=True)[1]\n",
        "\n",
        "        # Bornes inférieure et supérieure pour les perturbations\n",
        "        lower_bound = torch.clamp(data - epsilon, 0, 1)\n",
        "        upper_bound = torch.clamp(data + epsilon, 0, 1)\n",
        "\n",
        "        # Prédictions pour les bornes\n",
        "        lower_output = model(lower_bound)\n",
        "        upper_output = model(upper_bound)\n",
        "        lower_pred = lower_output.max(1, keepdim=True)[1]\n",
        "        upper_pred = upper_output.max(1, keepdim=True)[1]\n",
        "\n",
        "        # Certifier si les prédictions restent stables\n",
        "        is_certified = (lower_pred == init_pred).all(dim=1) & (upper_pred == init_pred).all(dim=1)\n",
        "        correct_certified += is_certified.sum().item()\n",
        "\n",
        "    # Calcul du taux de robustesse certifié\n",
        "    final_certified_acc = correct_certified / total\n",
        "    print(f'Certified robustness for epsilon {epsilon}: {final_certified_acc * 100:.2f}% over {total} samples.')\n"
      ],
      "metadata": {
        "id": "fjKtwpiDFGXX"
      },
      "execution_count": null,
      "outputs": []
    },
    {
      "cell_type": "code",
      "source": [
        "# Exécuter la certification de robustesse pour FashionMNIST\n",
        "certify_robustness(model_fashion, testloader_fashion, epsilon=0.3, input_channels=1)\n"
      ],
      "metadata": {
        "id": "udwnlagie6vC",
        "colab": {
          "base_uri": "https://localhost:8080/"
        },
        "outputId": "bdbfa299-4507-497a-9ef2-a27e02a13fdf"
      },
      "execution_count": null,
      "outputs": [
        {
          "output_type": "stream",
          "name": "stdout",
          "text": [
            "Certified robustness for epsilon 0.3: 47.70% over 10000 samples.\n"
          ]
        }
      ]
    },
    {
      "cell_type": "code",
      "source": [
        "def adversarial_training(model, train_loader, epsilon, num_epochs=10):\n",
        "    # Placer le modèle en mode entraînement\n",
        "    model.train()\n",
        "\n",
        "    for epoch in range(num_epochs):\n",
        "        for images, labels in train_loader:\n",
        "            images, labels = images.to(device), labels.to(device)\n",
        "\n",
        "            # Zéro gradients\n",
        "            optimizer.zero_grad()\n",
        "\n",
        "            # Calculer les perturbations adversariales sur les images d'entraînement\n",
        "            images.requires_grad = True\n",
        "            outputs = model(images)\n",
        "            loss = criterion(outputs, labels)\n",
        "            model.zero_grad()\n",
        "            loss.backward()\n",
        "            data_grad = images.grad.data\n",
        "\n",
        "            # Créer des images adversariales en appliquant FGSM\n",
        "            perturbed_images = fgsm_attack(images, epsilon, data_grad)\n",
        "\n",
        "            # Ré-entraînement sur les images perturbées\n",
        "            outputs_adv = model(perturbed_images)\n",
        "            loss_adv = criterion(outputs_adv, labels)\n",
        "            loss_adv.backward()\n",
        "            optimizer.step()\n",
        "\n",
        "        # Affichage de la perte moyenne après chaque époque\n",
        "        print(f'Epoch {epoch+1}, Loss: {loss.item()}')\n"
      ],
      "metadata": {
        "id": "BySvU-uThkC8"
      },
      "execution_count": null,
      "outputs": []
    },
    {
      "cell_type": "code",
      "source": [
        "def test_model(model, test_loader, epsilon):\n",
        "    correct = 0\n",
        "    total = 0\n",
        "    adv_examples = []\n",
        "\n",
        "    model.eval()\n",
        "    for images, labels in test_loader:\n",
        "        images, labels = images.to(device), labels.to(device)\n",
        "        images.requires_grad = True\n",
        "\n",
        "        # Forward pass the data through the model\n",
        "        outputs = model(images)\n",
        "        _, init_pred = outputs.max(1)  # Get the index of the max log-probability\n",
        "\n",
        "        # Loop over the batch\n",
        "        for idx in range(images.size(0)):\n",
        "            original_image = images[idx]\n",
        "            init_prediction = init_pred[idx]\n",
        "            label = labels[idx]\n",
        "\n",
        "            if init_prediction == label:\n",
        "                # Calculate loss only for correct predictions to generate adversarial examples\n",
        "                loss = criterion(outputs[idx].unsqueeze(0), labels[idx].unsqueeze(0))\n",
        "                model.zero_grad()\n",
        "                loss.backward(retain_graph=True)\n",
        "                data_grad = images.grad.data[idx]\n",
        "\n",
        "                # Generate adversarial example\n",
        "                perturbed_data = fgsm_attack(original_image.unsqueeze(0), epsilon, data_grad.unsqueeze(0))\n",
        "                output = model(perturbed_data)\n",
        "                final_pred = output.max(1)[1]\n",
        "\n",
        "                if final_pred.item() == label.item():\n",
        "                    correct += 1\n",
        "                if len(adv_examples) < 5:  # Save some examples to visualize\n",
        "                    adv_ex = perturbed_data.squeeze().detach().cpu().numpy()\n",
        "                    adv_examples.append((init_prediction.item(), final_pred.item(), adv_ex))\n",
        "\n",
        "        total += images.size(0)\n",
        "\n",
        "    # Calculate final accuracy\n",
        "    final_acc = correct / float(total)\n",
        "    print(f'Epsilon: {epsilon}, Test Accuracy: {final_acc * 100:.2f}%')\n",
        "    return adv_examples\n"
      ],
      "metadata": {
        "id": "oII_Br4Hhhpr"
      },
      "execution_count": null,
      "outputs": []
    },
    {
      "cell_type": "code",
      "source": [
        "def visualize_results(adv_examples):\n",
        "    plt.figure(figsize=(10, 5))\n",
        "    for i, (init_pred, final_pred, ex) in enumerate(adv_examples):\n",
        "        plt.subplot(1, len(adv_examples), i+1)\n",
        "        plt.xticks([], [])\n",
        "        plt.yticks([], [])\n",
        "        plt.title(f\"{init_pred} -> {final_pred}\")\n",
        "        plt.imshow(ex, cmap=\"gray\")\n",
        "    plt.tight_layout()\n",
        "    plt.show()\n"
      ],
      "metadata": {
        "id": "cWUTFFujlB3W"
      },
      "execution_count": null,
      "outputs": []
    },
    {
      "cell_type": "code",
      "source": [
        "# Assume epsilon = 0.1 has been set\n",
        "adv_examples = test_model(model_fashion, testloader_fashion, epsilon=0.1)\n",
        "visualize_results(adv_examples)\n"
      ],
      "metadata": {
        "id": "UQvxQWmBhpLd",
        "colab": {
          "base_uri": "https://localhost:8080/",
          "height": 258
        },
        "outputId": "4ea78db5-9b2d-4056-af47-4661e0c23bfe"
      },
      "execution_count": null,
      "outputs": [
        {
          "output_type": "stream",
          "name": "stdout",
          "text": [
            "Epsilon: 0.1, Test Accuracy: 35.59%\n"
          ]
        },
        {
          "output_type": "display_data",
          "data": {
            "text/plain": [
              "<Figure size 1000x500 with 5 Axes>"
            ],
            "image/png": "[encoded data removed]"
          },
          "metadata": {}
        }
      ]
    },
    {
      "cell_type": "markdown",
      "source": [
        "## PGD"
      ],
      "metadata": {
        "id": "GhhCY7J0o9aE"
      }
    },
    {
      "cell_type": "code",
      "source": [
        "import torch\n",
        "\n",
        "def pgd_attack(model, images, labels, epsilon, alpha, num_iter):\n",
        "    \"\"\"\n",
        "    Effectue une attaque PGD sur les images.\n",
        "\n",
        "    Arguments :\n",
        "    - model : le modèle à attaquer.\n",
        "    - images : les images d'entrée.\n",
        "    - labels : les étiquettes correctes des images.\n",
        "    - epsilon : le maximum de perturbation.\n",
        "    - alpha : la taille de chaque étape.\n",
        "    - num_iter : le nombre d'itérations de PGD.\n",
        "\n",
        "    Retourne :\n",
        "    - perturbed_images : les images perturbées.\n",
        "    \"\"\"\n",
        "    perturbed_images = images.clone().detach().to(images.device)\n",
        "    perturbed_images.requires_grad = True\n",
        "\n",
        "    for i in range(num_iter):\n",
        "        outputs = model(perturbed_images)\n",
        "        loss = criterion(outputs, labels)\n",
        "        model.zero_grad()\n",
        "        loss.backward()\n",
        "\n",
        "        # Calculer la perturbation et mettre à jour les images\n",
        "        grad = perturbed_images.grad.data\n",
        "        perturbed_images = perturbed_images + alpha * grad.sign()\n",
        "\n",
        "        # Projeter les images perturbées pour rester dans l'intervalle epsilon autour des images d'origine\n",
        "        perturbed_images = torch.max(torch.min(perturbed_images, images + epsilon), images - epsilon)\n",
        "        perturbed_images = torch.clamp(perturbed_images, 0, 1)\n",
        "        perturbed_images = perturbed_images.detach()\n",
        "        perturbed_images.requires_grad = True\n",
        "\n",
        "    return perturbed_images\n"
      ],
      "metadata": {
        "id": "Us8YniHQFGQo"
      },
      "execution_count": null,
      "outputs": []
    },
    {
      "cell_type": "code",
      "source": [
        "def visualize_attack_pgd(model, testloader, epsilon, alpha, num_iter, input_channels=1, dataset_name=\"Dataset\"):\n",
        "    \"\"\"\n",
        "    Visualise l'effet de l'attaque PGD sur un modèle en affichant des images originales et perturbées.\n",
        "    \"\"\"\n",
        "    # Extraire un batch de données\n",
        "    dataiter = iter(testloader)\n",
        "    images, labels = next(dataiter)\n",
        "    images, labels = images.to(device), labels.to(device)\n",
        "\n",
        "    # Générer une attaque PGD\n",
        "    perturbed_data = pgd_attack(model, images, labels, epsilon, alpha, num_iter)\n",
        "\n",
        "    # Créer la figure\n",
        "    fig, axes = plt.subplots(2, 6, figsize=(12, 5))\n",
        "    fig.suptitle(f\"PGD Attack Visualization on {dataset_name} (Epsilon: {epsilon}, Alpha: {alpha}, Iterations: {num_iter})\", fontsize=16)\n",
        "\n",
        "    for i in range(6):\n",
        "        # Image originale\n",
        "        ax = axes[0, i]\n",
        "        original_img = images[i].detach().cpu().numpy()\n",
        "        if input_channels == 1:\n",
        "            ax.imshow(original_img.squeeze(), cmap=\"gray\")\n",
        "        else:\n",
        "            ax.imshow(original_img.transpose(1, 2, 0))\n",
        "        ax.axis(\"off\")\n",
        "        ax.set_title(\"Original\")\n",
        "\n",
        "        # Image perturbée\n",
        "        ax = axes[1, i]\n",
        "        perturbed_img = perturbed_data[i].detach().cpu().numpy()\n",
        "        if input_channels == 1:\n",
        "            ax.imshow(perturbed_img.squeeze(), cmap=\"gray\")\n",
        "        else:\n",
        "            ax.imshow(perturbed_img.transpose(1, 2, 0))\n",
        "        ax.axis(\"off\")\n",
        "        ax.set_title(\"Perturbé\")\n",
        "\n",
        "    plt.tight_layout(rect=[0, 0.03, 1, 0.95])  # Ajuster l'espace pour le titre principal\n",
        "    plt.show()\n"
      ],
      "metadata": {
        "id": "v_BOARXUYk_M"
      },
      "execution_count": null,
      "outputs": []
    },
    {
      "cell_type": "code",
      "source": [
        "# Visualiser l'attaque PGD sur FashionMNIST\n",
        "visualize_attack_pgd(model_fashion, testloader_fashion, epsilon=0.3, alpha=0.01, num_iter=40, input_channels=1, dataset_name=\"FashionMNIST\")\n"
      ],
      "metadata": {
        "id": "00V_jex7fE5R",
        "colab": {
          "base_uri": "https://localhost:8080/",
          "height": 488
        },
        "outputId": "f0515265-5608-49e6-a412-a83c686cf55b"
      },
      "execution_count": null,
      "outputs": [
        {
          "output_type": "display_data",
          "data": {
            "text/plain": [
              "<Figure size 1200x500 with 12 Axes>"
            ],
            "image/png": "[encoded data removed]"
          },
          "metadata": {}
        }
      ]
    },
    {
      "cell_type": "code",
      "source": [
        "def certify_robustness_pgd(model, testloader, epsilon, alpha, num_iter, input_channels=1):\n",
        "    \"\"\"\n",
        "    Certifie que les prédictions du modèle sont robustes sous une perturbation PGD de magnitude epsilon.\n",
        "    \"\"\"\n",
        "    model.eval()\n",
        "    correct_certified = 0\n",
        "    total = 0\n",
        "\n",
        "    for data, target in testloader:\n",
        "        data, target = data.to(device), target.to(device)\n",
        "        total += target.size(0)\n",
        "\n",
        "        # Générer des images perturbées avec PGD\n",
        "        perturbed_data = pgd_attack(model, data, target, epsilon, alpha, num_iter)\n",
        "\n",
        "        # Prédiction pour les images perturbées\n",
        "        output = model(perturbed_data)\n",
        "        final_pred = output.max(1, keepdim=True)[1]\n",
        "        correct_certified += (final_pred == target.view_as(final_pred)).sum().item()\n",
        "\n",
        "    # Calcul du taux de robustesse certifié\n",
        "    final_certified_acc = correct_certified / total\n",
        "    print(f'Certified robustness for PGD attack (epsilon={epsilon}, alpha={alpha}, iterations={num_iter}): {final_certified_acc * 100:.2f}%')\n"
      ],
      "metadata": {
        "id": "Pf7AdNXpYqGE"
      },
      "execution_count": null,
      "outputs": []
    },
    {
      "cell_type": "code",
      "source": [
        "certify_robustness_pgd(model_fashion, testloader_fashion, epsilon=0.3, alpha=0.01, num_iter=40, input_channels=1)\n"
      ],
      "metadata": {
        "id": "qdl_H5XgfPQ5",
        "colab": {
          "base_uri": "https://localhost:8080/"
        },
        "outputId": "f32f89ce-3374-4898-bffd-d8218266d46a"
      },
      "execution_count": null,
      "outputs": [
        {
          "output_type": "stream",
          "name": "stdout",
          "text": [
            "Certified robustness for PGD attack (epsilon=0.3, alpha=0.01, iterations=40): 2.68%\n"
          ]
        }
      ]
    },
    {
      "cell_type": "code",
      "source": [
        "def adversarial_training_pgd(model, train_loader, epsilon, alpha, num_iter, num_epochs=10):\n",
        "    model.train()\n",
        "    for epoch in range(num_epochs):\n",
        "        for images, labels in train_loader:\n",
        "            images, labels = images.to(device), labels.to(device)\n",
        "\n",
        "            optimizer.zero_grad()\n",
        "            perturbed_images = pgd_attack(model, images, labels, epsilon, alpha, num_iter)\n",
        "            outputs_adv = model(perturbed_images)\n",
        "            loss_adv = criterion(outputs_adv, labels)\n",
        "            loss_adv.backward()\n",
        "            optimizer.step()\n",
        "\n",
        "        print(f'Epoch {epoch+1}, Loss: {loss_adv.item()}')\n"
      ],
      "metadata": {
        "id": "EPt9556fmGGr"
      },
      "execution_count": null,
      "outputs": []
    },
    {
      "cell_type": "code",
      "source": [
        "def test_model_pgd(model, test_loader, epsilon, alpha, num_iter):\n",
        "    correct = 0\n",
        "    total = 0\n",
        "    adv_examples = []\n",
        "\n",
        "    model.eval()\n",
        "    for images, labels in test_loader:\n",
        "        images, labels = images.to(device), labels.to(device)\n",
        "\n",
        "        perturbed_data = pgd_attack(model, images, labels, epsilon, alpha, num_iter)\n",
        "        outputs = model(perturbed_data)\n",
        "        _, final_pred = outputs.max(1)\n",
        "\n",
        "        total += labels.size(0)\n",
        "        correct += (final_pred == labels).sum().item()\n",
        "\n",
        "        if len(adv_examples) < 5:\n",
        "            adv_ex = perturbed_data.squeeze().detach().cpu().numpy()\n",
        "            adv_examples.append((final_pred.item(), labels.item(), adv_ex))\n",
        "\n",
        "    final_acc = correct / float(total)\n",
        "    print(f'Epsilon: {epsilon}, Alpha: {alpha}, Num Iter: {num_iter}, Test Accuracy: {final_acc * 100:.2f}%')\n",
        "    return adv_examples\n"
      ],
      "metadata": {
        "id": "gXG2E4dTmIkE"
      },
      "execution_count": null,
      "outputs": []
    },
    {
      "cell_type": "code",
      "source": [
        "adversarial_training = test_model(model_fashion, testloader_fashion, epsilon=0.1)\n",
        "visualize_results(adversarial_training)"
      ],
      "metadata": {
        "colab": {
          "base_uri": "https://localhost:8080/",
          "height": 258
        },
        "id": "mDL--wcJmNCM",
        "outputId": "5cfb04b5-b01a-45d2-d98c-4d14d14a8c8f"
      },
      "execution_count": null,
      "outputs": [
        {
          "output_type": "stream",
          "name": "stdout",
          "text": [
            "Epsilon: 0.1, Test Accuracy: 35.59%\n"
          ]
        },
        {
          "output_type": "display_data",
          "data": {
            "text/plain": [
              "<Figure size 1000x500 with 5 Axes>"
            ],
            "image/png": "[encoded data removed]"
          },
          "metadata": {}
        }
      ]
    }
  ]
}